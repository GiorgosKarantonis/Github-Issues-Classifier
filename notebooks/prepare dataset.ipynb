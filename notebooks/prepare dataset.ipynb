{
 "cells": [
  {
   "cell_type": "markdown",
   "metadata": {},
   "source": [
    "# 1. Prepare the environment"
   ]
  },
  {
   "cell_type": "code",
   "execution_count": 1,
   "metadata": {},
   "outputs": [],
   "source": [
    "import pandas as pd\n",
    "from Label_Bot.label_bot import utils"
   ]
  },
  {
   "cell_type": "markdown",
   "metadata": {},
   "source": [
    "## 1.1. Load the full dataset\n",
    "More versions of the dataset can be found in **http://cs-people.bu.edu/giorgos/labelbot**. "
   ]
  },
  {
   "cell_type": "code",
   "execution_count": 2,
   "metadata": {},
   "outputs": [],
   "source": [
    "base_url = 'http://cs-people.bu.edu/giorgos/labelbot/'\n",
    "\n",
    "url = base_url + 'github.pkl'"
   ]
  },
  {
   "cell_type": "code",
   "execution_count": 3,
   "metadata": {},
   "outputs": [],
   "source": [
    "df = pd.read_pickle(url)"
   ]
  },
  {
   "cell_type": "code",
   "execution_count": 4,
   "metadata": {},
   "outputs": [
    {
     "data": {
      "text/html": [
       "<div>\n",
       "<style scoped>\n",
       "    .dataframe tbody tr th:only-of-type {\n",
       "        vertical-align: middle;\n",
       "    }\n",
       "\n",
       "    .dataframe tbody tr th {\n",
       "        vertical-align: top;\n",
       "    }\n",
       "\n",
       "    .dataframe thead th {\n",
       "        text-align: right;\n",
       "    }\n",
       "</style>\n",
       "<table border=\"1\" class=\"dataframe\">\n",
       "  <thead>\n",
       "    <tr style=\"text-align: right;\">\n",
       "      <th></th>\n",
       "      <th>Labels Present</th>\n",
       "      <th>Fraction</th>\n",
       "      <th>Examples</th>\n",
       "    </tr>\n",
       "  </thead>\n",
       "  <tbody>\n",
       "    <tr>\n",
       "      <th>0</th>\n",
       "      <td>Bug</td>\n",
       "      <td>0.439470</td>\n",
       "      <td>1395227</td>\n",
       "    </tr>\n",
       "    <tr>\n",
       "      <th>1</th>\n",
       "      <td>Question</td>\n",
       "      <td>0.085425</td>\n",
       "      <td>271206</td>\n",
       "    </tr>\n",
       "    <tr>\n",
       "      <th>2</th>\n",
       "      <td>Enhancement</td>\n",
       "      <td>0.444426</td>\n",
       "      <td>1410962</td>\n",
       "    </tr>\n",
       "    <tr>\n",
       "      <th>3</th>\n",
       "      <td>Bug, Question</td>\n",
       "      <td>0.000460</td>\n",
       "      <td>1459</td>\n",
       "    </tr>\n",
       "    <tr>\n",
       "      <th>4</th>\n",
       "      <td>Bug, Enhancement</td>\n",
       "      <td>0.001676</td>\n",
       "      <td>5322</td>\n",
       "    </tr>\n",
       "    <tr>\n",
       "      <th>5</th>\n",
       "      <td>Question, Enhancement</td>\n",
       "      <td>0.000430</td>\n",
       "      <td>1365</td>\n",
       "    </tr>\n",
       "    <tr>\n",
       "      <th>6</th>\n",
       "      <td>Bug, Question, Enhancement</td>\n",
       "      <td>0.000002</td>\n",
       "      <td>5</td>\n",
       "    </tr>\n",
       "    <tr>\n",
       "      <th>7</th>\n",
       "      <td>Total</td>\n",
       "      <td>1.000000</td>\n",
       "      <td>3174798</td>\n",
       "    </tr>\n",
       "  </tbody>\n",
       "</table>\n",
       "</div>"
      ],
      "text/plain": [
       "               Labels Present  Fraction  Examples\n",
       "0                         Bug  0.439470   1395227\n",
       "1                    Question  0.085425    271206\n",
       "2                 Enhancement  0.444426   1410962\n",
       "3               Bug, Question  0.000460      1459\n",
       "4            Bug, Enhancement  0.001676      5322\n",
       "5       Question, Enhancement  0.000430      1365\n",
       "6  Bug, Question, Enhancement  0.000002         5\n",
       "7                       Total  1.000000   3174798"
      ]
     },
     "execution_count": 4,
     "metadata": {},
     "output_type": "execute_result"
    }
   ],
   "source": [
    "utils.get_labels_stats(df)"
   ]
  },
  {
   "cell_type": "markdown",
   "metadata": {},
   "source": [
    "<hr></hr>\n",
    "\n",
    "# 2. Prepare the dataset for Masked Language Modeling\n",
    "\n",
    "**You should skip this section if you're not interested in Language Modeling!**"
   ]
  },
  {
   "cell_type": "code",
   "execution_count": null,
   "metadata": {},
   "outputs": [],
   "source": [
    "df, _ = utils.split_train_test(df, \n",
    "                               train_frac=.125, \n",
    "                               save=False)"
   ]
  },
  {
   "cell_type": "code",
   "execution_count": null,
   "metadata": {},
   "outputs": [],
   "source": [
    "df, mlm_df = utils.split_train_test(df, \n",
    "                                    save=False)"
   ]
  },
  {
   "cell_type": "code",
   "execution_count": null,
   "metadata": {},
   "outputs": [],
   "source": [
    "mlm_df_train, mlm_df_val, mlm_df_test = utils.split_train_test(mlm_df, \n",
    "                                                               save=False, \n",
    "                                                               validation=True, \n",
    "                                                               to_keep=['title', 'body'])"
   ]
  },
  {
   "cell_type": "code",
   "execution_count": null,
   "metadata": {},
   "outputs": [],
   "source": [
    "utils.df_to_txt(mlm_df_train, name='train')\n",
    "utils.df_to_txt(mlm_df_val, name='val')\n",
    "utils.df_to_txt(mlm_df_test, name='test')\n",
    "\n",
    "del mlm_df, mlm_df_train, mlm_df_val, mlm_df_test"
   ]
  },
  {
   "cell_type": "markdown",
   "metadata": {},
   "source": [
    "<hr></hr>\n",
    "\n",
    "# 3. Prepare the dataset for classification"
   ]
  },
  {
   "cell_type": "markdown",
   "metadata": {},
   "source": [
    "## 3.1. Sample the dataset\n",
    "We randomly keep only 90,000 examples from each class. Because the dataframe that corresponds to combinations of classes is too small, we keep all of its examples. If you plan to fine-tune the model on your own, you can use a bigger dataset as well; I used this size due to RAM issues. \n",
    "\n",
    "Keep in mind that for the classification dataset, we use only datapoints that haven't been seen by our language model, meaning that we don't sample from the 400k datapoints of the language modeling dataset. "
   ]
  },
  {
   "cell_type": "code",
   "execution_count": 5,
   "metadata": {},
   "outputs": [],
   "source": [
    "sample_size = int(9e+4)\n",
    "name = f'{int(sample_size / 1000)}k'"
   ]
  },
  {
   "cell_type": "code",
   "execution_count": 6,
   "metadata": {},
   "outputs": [],
   "source": [
    "bugs_df, questions_df, enhancements_df, combinations_df = utils.sample_df(df, \n",
    "                                                                          n=sample_size, \n",
    "                                                                          to_keep=['title', \n",
    "                                                                                   'body', \n",
    "                                                                                   'label_bug', \n",
    "                                                                                   'label_question', \n",
    "                                                                                   'label_enhancement'])"
   ]
  },
  {
   "cell_type": "markdown",
   "metadata": {},
   "source": [
    "## 3.2. Split to train, test and validation sets. \n",
    "By default the split is done 70/30."
   ]
  },
  {
   "cell_type": "code",
   "execution_count": 7,
   "metadata": {},
   "outputs": [],
   "source": [
    "to_keep=['title', 'body', 'label_bug', 'label_question', 'label_enhancement']"
   ]
  },
  {
   "cell_type": "code",
   "execution_count": 8,
   "metadata": {},
   "outputs": [],
   "source": [
    "bugs_train, bugs_val, bugs_test = utils.split_train_test(bugs_df, \n",
    "                                                         save=False, \n",
    "                                                         validation=True, \n",
    "                                                         to_keep=to_keep)\n",
    "\n",
    "questions_train, questions_val, questions_test = utils.split_train_test(questions_df, \n",
    "                                                                        save=False, \n",
    "                                                                        validation=True, \n",
    "                                                                        to_keep=to_keep)\n",
    "\n",
    "enhancements_train, enhancements_val, enhancements_test = utils.split_train_test(enhancements_df, \n",
    "                                                                                 save=False, \n",
    "                                                                                 validation=True, \n",
    "                                                                                 to_keep=to_keep)\n",
    "\n",
    "combinations_train, combinations_val, combinations_test = utils.split_train_test(combinations_df, \n",
    "                                                                                 save=False, \n",
    "                                                                                 validation=True, \n",
    "                                                                                 to_keep=to_keep)"
   ]
  },
  {
   "cell_type": "code",
   "execution_count": 9,
   "metadata": {},
   "outputs": [],
   "source": [
    "train_df = pd.concat((bugs_train, \n",
    "                      questions_train, \n",
    "                      enhancements_train, \n",
    "                      combinations_train), axis=0, ignore_index=True)\n",
    "\n",
    "val_df = pd.concat((bugs_val, \n",
    "                      questions_val, \n",
    "                      enhancements_val, \n",
    "                      combinations_val), axis=0, ignore_index=True)\n",
    "\n",
    "test_df = pd.concat((bugs_test, \n",
    "                     questions_test, \n",
    "                     enhancements_test, \n",
    "                     combinations_test), axis=0, ignore_index=True)"
   ]
  },
  {
   "cell_type": "markdown",
   "metadata": {},
   "source": [
    "## 3.3. Shuffle Dataframes"
   ]
  },
  {
   "cell_type": "code",
   "execution_count": 10,
   "metadata": {},
   "outputs": [],
   "source": [
    "train_df = train_df.sample(frac=1)\n",
    "val_df = val_df.sample(frac=1)\n",
    "test_df = test_df.sample(frac=1)"
   ]
  },
  {
   "cell_type": "markdown",
   "metadata": {},
   "source": [
    "## 3.4. Check the distribution of classes in train and test set"
   ]
  },
  {
   "cell_type": "code",
   "execution_count": 11,
   "metadata": {},
   "outputs": [
    {
     "data": {
      "text/html": [
       "<div>\n",
       "<style scoped>\n",
       "    .dataframe tbody tr th:only-of-type {\n",
       "        vertical-align: middle;\n",
       "    }\n",
       "\n",
       "    .dataframe tbody tr th {\n",
       "        vertical-align: top;\n",
       "    }\n",
       "\n",
       "    .dataframe thead tr th {\n",
       "        text-align: left;\n",
       "    }\n",
       "</style>\n",
       "<table border=\"1\" class=\"dataframe\">\n",
       "  <thead>\n",
       "    <tr>\n",
       "      <th></th>\n",
       "      <th colspan=\"3\" halign=\"left\">Original Dataset</th>\n",
       "      <th colspan=\"3\" halign=\"left\">Train</th>\n",
       "      <th colspan=\"3\" halign=\"left\">Val</th>\n",
       "      <th colspan=\"3\" halign=\"left\">Test</th>\n",
       "    </tr>\n",
       "    <tr>\n",
       "      <th></th>\n",
       "      <th>Labels Present</th>\n",
       "      <th>Fraction</th>\n",
       "      <th>Examples</th>\n",
       "      <th>Labels Present</th>\n",
       "      <th>Fraction</th>\n",
       "      <th>Examples</th>\n",
       "      <th>Labels Present</th>\n",
       "      <th>Fraction</th>\n",
       "      <th>Examples</th>\n",
       "      <th>Labels Present</th>\n",
       "      <th>Fraction</th>\n",
       "      <th>Examples</th>\n",
       "    </tr>\n",
       "  </thead>\n",
       "  <tbody>\n",
       "    <tr>\n",
       "      <th>0</th>\n",
       "      <td>Bug</td>\n",
       "      <td>0.439470</td>\n",
       "      <td>1395227</td>\n",
       "      <td>Bug</td>\n",
       "      <td>0.323565</td>\n",
       "      <td>56700</td>\n",
       "      <td>Bug</td>\n",
       "      <td>0.323573</td>\n",
       "      <td>6299</td>\n",
       "      <td>Bug</td>\n",
       "      <td>0.323563</td>\n",
       "      <td>27001</td>\n",
       "    </tr>\n",
       "    <tr>\n",
       "      <th>1</th>\n",
       "      <td>Question</td>\n",
       "      <td>0.085425</td>\n",
       "      <td>271206</td>\n",
       "      <td>Question</td>\n",
       "      <td>0.323565</td>\n",
       "      <td>56700</td>\n",
       "      <td>Question</td>\n",
       "      <td>0.323573</td>\n",
       "      <td>6299</td>\n",
       "      <td>Question</td>\n",
       "      <td>0.323563</td>\n",
       "      <td>27001</td>\n",
       "    </tr>\n",
       "    <tr>\n",
       "      <th>2</th>\n",
       "      <td>Enhancement</td>\n",
       "      <td>0.444426</td>\n",
       "      <td>1410962</td>\n",
       "      <td>Enhancement</td>\n",
       "      <td>0.323565</td>\n",
       "      <td>56700</td>\n",
       "      <td>Enhancement</td>\n",
       "      <td>0.323573</td>\n",
       "      <td>6299</td>\n",
       "      <td>Enhancement</td>\n",
       "      <td>0.323563</td>\n",
       "      <td>27001</td>\n",
       "    </tr>\n",
       "    <tr>\n",
       "      <th>3</th>\n",
       "      <td>Bug, Question</td>\n",
       "      <td>0.000460</td>\n",
       "      <td>1459</td>\n",
       "      <td>Bug, Question</td>\n",
       "      <td>0.005227</td>\n",
       "      <td>916</td>\n",
       "      <td>Bug, Question</td>\n",
       "      <td>0.005496</td>\n",
       "      <td>107</td>\n",
       "      <td>Bug, Question</td>\n",
       "      <td>0.005225</td>\n",
       "      <td>436</td>\n",
       "    </tr>\n",
       "    <tr>\n",
       "      <th>4</th>\n",
       "      <td>Bug, Enhancement</td>\n",
       "      <td>0.001676</td>\n",
       "      <td>5322</td>\n",
       "      <td>Bug, Enhancement</td>\n",
       "      <td>0.019214</td>\n",
       "      <td>3367</td>\n",
       "      <td>Bug, Enhancement</td>\n",
       "      <td>0.018801</td>\n",
       "      <td>366</td>\n",
       "      <td>Bug, Enhancement</td>\n",
       "      <td>0.019042</td>\n",
       "      <td>1589</td>\n",
       "    </tr>\n",
       "    <tr>\n",
       "      <th>5</th>\n",
       "      <td>Question, Enhancement</td>\n",
       "      <td>0.000430</td>\n",
       "      <td>1365</td>\n",
       "      <td>Question, Enhancement</td>\n",
       "      <td>0.004845</td>\n",
       "      <td>849</td>\n",
       "      <td>Question, Enhancement</td>\n",
       "      <td>0.004983</td>\n",
       "      <td>97</td>\n",
       "      <td>Question, Enhancement</td>\n",
       "      <td>0.005021</td>\n",
       "      <td>419</td>\n",
       "    </tr>\n",
       "    <tr>\n",
       "      <th>6</th>\n",
       "      <td>Bug, Question, Enhancement</td>\n",
       "      <td>0.000002</td>\n",
       "      <td>5</td>\n",
       "      <td>Bug, Question, Enhancement</td>\n",
       "      <td>0.000017</td>\n",
       "      <td>3</td>\n",
       "      <td>Bug, Question, Enhancement</td>\n",
       "      <td>0.000000</td>\n",
       "      <td>0</td>\n",
       "      <td>Bug, Question, Enhancement</td>\n",
       "      <td>0.000024</td>\n",
       "      <td>2</td>\n",
       "    </tr>\n",
       "    <tr>\n",
       "      <th>7</th>\n",
       "      <td>Total</td>\n",
       "      <td>1.000000</td>\n",
       "      <td>3174798</td>\n",
       "      <td>Total</td>\n",
       "      <td>1.000000</td>\n",
       "      <td>175235</td>\n",
       "      <td>Total</td>\n",
       "      <td>1.000000</td>\n",
       "      <td>19467</td>\n",
       "      <td>Total</td>\n",
       "      <td>1.000000</td>\n",
       "      <td>83449</td>\n",
       "    </tr>\n",
       "  </tbody>\n",
       "</table>\n",
       "</div>"
      ],
      "text/plain": [
       "             Original Dataset                                          Train  \\\n",
       "               Labels Present  Fraction Examples              Labels Present   \n",
       "0                         Bug  0.439470  1395227                         Bug   \n",
       "1                    Question  0.085425   271206                    Question   \n",
       "2                 Enhancement  0.444426  1410962                 Enhancement   \n",
       "3               Bug, Question  0.000460     1459               Bug, Question   \n",
       "4            Bug, Enhancement  0.001676     5322            Bug, Enhancement   \n",
       "5       Question, Enhancement  0.000430     1365       Question, Enhancement   \n",
       "6  Bug, Question, Enhancement  0.000002        5  Bug, Question, Enhancement   \n",
       "7                       Total  1.000000  3174798                       Total   \n",
       "\n",
       "                                             Val                     \\\n",
       "   Fraction Examples              Labels Present  Fraction Examples   \n",
       "0  0.323565    56700                         Bug  0.323573     6299   \n",
       "1  0.323565    56700                    Question  0.323573     6299   \n",
       "2  0.323565    56700                 Enhancement  0.323573     6299   \n",
       "3  0.005227      916               Bug, Question  0.005496      107   \n",
       "4  0.019214     3367            Bug, Enhancement  0.018801      366   \n",
       "5  0.004845      849       Question, Enhancement  0.004983       97   \n",
       "6  0.000017        3  Bug, Question, Enhancement  0.000000        0   \n",
       "7  1.000000   175235                       Total  1.000000    19467   \n",
       "\n",
       "                         Test                     \n",
       "               Labels Present  Fraction Examples  \n",
       "0                         Bug  0.323563    27001  \n",
       "1                    Question  0.323563    27001  \n",
       "2                 Enhancement  0.323563    27001  \n",
       "3               Bug, Question  0.005225      436  \n",
       "4            Bug, Enhancement  0.019042     1589  \n",
       "5       Question, Enhancement  0.005021      419  \n",
       "6  Bug, Question, Enhancement  0.000024        2  \n",
       "7                       Total  1.000000    83449  "
      ]
     },
     "execution_count": 11,
     "metadata": {},
     "output_type": "execute_result"
    }
   ],
   "source": [
    "df_stats = utils.get_labels_stats(df)\n",
    "train_stats = utils.get_labels_stats(train_df)\n",
    "val_stats = utils.get_labels_stats(val_df)\n",
    "test_stats = utils.get_labels_stats(test_df)\n",
    "\n",
    "pd.DataFrame(pd.concat([df_stats, \n",
    "                        train_stats, \n",
    "                        val_stats, \n",
    "                        test_stats], \n",
    "                       axis=1, \n",
    "                       keys=['Original Dataset', 'Train', 'Val', 'Test']))"
   ]
  },
  {
   "cell_type": "markdown",
   "metadata": {},
   "source": [
    "## 3.5. Save the train and test set"
   ]
  },
  {
   "cell_type": "code",
   "execution_count": 12,
   "metadata": {},
   "outputs": [],
   "source": [
    "train_df.to_pickle(f'train_{name}.pkl')\n",
    "val_df.to_pickle(f'val_{name}.pkl')\n",
    "test_df.to_pickle(f'test_{name}.pkl')"
   ]
  },
  {
   "cell_type": "code",
   "execution_count": null,
   "metadata": {},
   "outputs": [],
   "source": []
  }
 ],
 "metadata": {
  "kernelspec": {
   "display_name": "Python 3",
   "language": "python",
   "name": "python3"
  },
  "language_info": {
   "codemirror_mode": {
    "name": "ipython",
    "version": 3
   },
   "file_extension": ".py",
   "mimetype": "text/x-python",
   "name": "python",
   "nbconvert_exporter": "python",
   "pygments_lexer": "ipython3",
   "version": "3.6.9"
  }
 },
 "nbformat": 4,
 "nbformat_minor": 2
}
