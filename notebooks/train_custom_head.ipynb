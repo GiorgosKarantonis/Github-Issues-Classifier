{
 "cells": [
  {
   "cell_type": "markdown",
   "metadata": {},
   "source": [
    "# 1. Prepare the environment"
   ]
  },
  {
   "cell_type": "code",
   "execution_count": 1,
   "metadata": {},
   "outputs": [],
   "source": [
    "import os\n",
    "import json\n",
    "\n",
    "import numpy as np\n",
    "import pandas as pd\n",
    "\n",
    "import torch\n",
    "import torch.nn as nn\n",
    "import torch.optim as optim\n",
    "\n",
    "from matplotlib import pyplot as plt\n",
    "from Label_Bot.label_bot import utils\n",
    "\n",
    "from sklearn.metrics import accuracy_score as accuracy\n",
    "\n",
    "from simpletransformers.classification import MultiLabelClassificationModel"
   ]
  },
  {
   "cell_type": "markdown",
   "metadata": {},
   "source": [
    "## 1.1. Load the fine-tuned model"
   ]
  },
  {
   "cell_type": "code",
   "execution_count": 2,
   "metadata": {},
   "outputs": [],
   "source": [
    "model_path = 'models/classification/roberta-base'\n",
    "\n",
    "with open(f'{model_path}/model_args.json') as f:\n",
    "    model_args = json.load(f)\n",
    "\n",
    "model = utils.load_model(model_args, task='mlc', from_path=model_path)"
   ]
  },
  {
   "cell_type": "markdown",
   "metadata": {},
   "source": [
    "##  1.2. Prepare the datasets\n",
    "\n",
    "The original model is fine-tuned in a big dataset, which is great but has a serious drawback; the lack of enough training examples that have more than one labels. If we retain here the original distribution, this issue is not going to be addressed, so instead we use all the examples that have multiple labels and for each of the rest of the classes we keep as many examples we keep only as many as the number of examples that have multiple labels. \n",
    "\n",
    "Although this partially solves the problem, there are a couple of things we need to consider: \n",
    "<ul>\n",
    "    <li> \n",
    "        Some combinations are still underrepresented and since the number of examples of these combinations is quite small, if we want to fully solve this issue we have to augment the original dataset either physically or synthetically, with more examples that fall in more than one categories. \n",
    "    </li>\n",
    "    <br>\n",
    "    <li>\n",
    "        Ideally, instead of the raw scores we would feed the logits of the fine-tuned model to the head, but due to the fact that these logits aren't returned if we want to get them we have to clone and tweak the code of the used library. \n",
    "    </li>\n",
    "    <br>\n",
    "    <li>\n",
    "        Using the additional head can have an extra benefit. If we had used fewer examples during the fine-tuning, the head could boost the results significantly. For example, when I used 20k examples from each class during the fine-tuning phase (instead of 90k), the additional of the head significantly increased the score of almost all of the metrics that are used for evaluation in the <code>stats.ipynb</code> file. \n",
    "    </li>\n",
    "</ul>"
   ]
  },
  {
   "cell_type": "code",
   "execution_count": 12,
   "metadata": {},
   "outputs": [],
   "source": [
    "bugs_train, questions_train, enhancements_train, comb_train = utils.sample_df(pd.read_pickle('train_90k.pkl'), \n",
    "                                                                              n=5000, \n",
    "                                                                              to_keep=['title', \n",
    "                                                                                       'body', \n",
    "                                                                                       'label_bug', \n",
    "                                                                                       'label_question', \n",
    "                                                                                       'label_enhancement'])\n",
    "\n",
    "bugs_val, questions_val, enhancements_val, comb_val = utils.sample_df(pd.read_pickle('val_90k.pkl'), \n",
    "                                                                      n=550, \n",
    "                                                                      to_keep=['title', \n",
    "                                                                               'body', \n",
    "                                                                               'label_bug', \n",
    "                                                                               'label_question', \n",
    "                                                                               'label_enhancement'])"
   ]
  },
  {
   "cell_type": "code",
   "execution_count": 13,
   "metadata": {},
   "outputs": [],
   "source": [
    "train_df = pd.concat((bugs_train, \n",
    "                      questions_train, \n",
    "                      enhancements_train, \n",
    "                      comb_train), axis=0, ignore_index=True)\n",
    "\n",
    "val_df = pd.concat((bugs_val, \n",
    "                    questions_val, \n",
    "                    enhancements_val, \n",
    "                    comb_val), axis=0, ignore_index=True)"
   ]
  },
  {
   "cell_type": "markdown",
   "metadata": {},
   "source": [
    "### 1.2.1. Calculate the scores and save them for future use"
   ]
  },
  {
   "cell_type": "code",
   "execution_count": null,
   "metadata": {},
   "outputs": [],
   "source": [
    "scores = model.predict(val_df.title)[1]\n",
    "np.save(f'val_scores_titles', scores)\n",
    "\n",
    "scores = model.predict(val_df.body)[1]\n",
    "np.save(f'val_scores_bodies', scores)\n",
    "\n",
    "scores = model.predict(val_df.title + ' ' + val_df.body)[1]\n",
    "np.save(f'val_scores_combined', scores)\n",
    "\n",
    "np.save(f'val_scores_labels', utils.make_st_compatible(val_df).labels)\n",
    "\n",
    "\n",
    "scores = model.predict(train_df.title)[1]\n",
    "np.save(f'train_scores_titles', scores)\n",
    "\n",
    "scores = model.predict(train_df.body)[1]\n",
    "np.save(f'train_scores_bodies', scores)\n",
    "\n",
    "scores = model.predict(train_df.title + ' ' + train_df.body)[1]\n",
    "np.save(f'train_scores_combined', scores)\n",
    "\n",
    "np.save(f'train_scores_labels', utils.make_st_compatible(train_df).labels)"
   ]
  },
  {
   "cell_type": "code",
   "execution_count": 15,
   "metadata": {},
   "outputs": [],
   "source": [
    "train_scores_titles = np.load('train_scores_titles.npy')\n",
    "train_scores_bodies = np.load('train_scores_bodies.npy')\n",
    "train_scores_combined = np.load('train_scores_combined.npy')\n",
    "\n",
    "train_labels = np.load('train_scores_labels.npy', allow_pickle=True)\n",
    "train_labels = list(map(list, train_labels))\n",
    "\n",
    "\n",
    "val_scores_titles = np.load('val_scores_titles.npy')\n",
    "val_scores_bodies = np.load('val_scores_bodies.npy')\n",
    "val_scores_combined = np.load('val_scores_combined.npy')\n",
    "\n",
    "val_labels = np.load('val_scores_labels.npy', allow_pickle=True)\n",
    "val_labels = list(map(list, val_labels))"
   ]
  },
  {
   "cell_type": "markdown",
   "metadata": {},
   "source": [
    "<hr></hr>\n",
    "\n",
    "# 2. Train the head on top of the fine-tuned model"
   ]
  },
  {
   "cell_type": "markdown",
   "metadata": {},
   "source": [
    "## 2.1. Define the Additional Head\n",
    "\n",
    "You can also try using your own custom head by defining a list of PyTorch layers and passing using it when you initialize the head object. For example: \n",
    "\n",
    "```Python\n",
    "my_head = [\n",
    "    nn.Linear(9, 20), \n",
    "    nn.ReLU(), \n",
    "    nn.Linear(20, 3)\n",
    "]\n",
    "head = ScoresHead(my_head)\n",
    "```\n",
    "\n",
    "**Note that after the last layer there is no activation.** This is because we're doing multilabel classification, so a sigmoid is by default in the <code>forward</code> function. \n",
    "\n",
    "Additionally, if you want to make a more complex model you can simply replace the forward function. "
   ]
  },
  {
   "cell_type": "code",
   "execution_count": 16,
   "metadata": {},
   "outputs": [],
   "source": [
    "class ScoresHead(nn.Module):\n",
    "    def __init__(self, custom_head=None):\n",
    "        super().__init__()\n",
    "        self.device = torch.device('cuda' if torch.cuda.is_available() else 'cpu')\n",
    "        \n",
    "        self.loss = nn.BCELoss()\n",
    "        self.optimizer = optim.Adam\n",
    "        \n",
    "        head = custom_head if custom_head else self.default_head()\n",
    "        self.model = nn.Sequential(*head).to(self.device)\n",
    "    \n",
    "    \n",
    "    def default_head(self):\n",
    "        return [\n",
    "            nn.Linear(9, 100), \n",
    "            nn.LeakyReLU(.2), \n",
    "            nn.BatchNorm1d(100), \n",
    "            nn.Linear(100, 3)\n",
    "        ]\n",
    "        \n",
    "        \n",
    "    def forward(self, titles, bodies, combined, train=True):\n",
    "        if train: \n",
    "            self.model = self.model.train()\n",
    "        else:\n",
    "            self.model = self.model.eval()\n",
    "\n",
    "        x = torch.cat((titles, bodies, combined), dim=1).to(self.device)\n",
    "        x = self.model(x)\n",
    "        x = torch.sigmoid(x)\n",
    "        \n",
    "        return x\n",
    "    \n",
    "    \n",
    "    def fit(self, \n",
    "            titles, \n",
    "            bodies, \n",
    "            combined, \n",
    "            labels, \n",
    "            validation=True, \n",
    "            val_titles=None, \n",
    "            val_bodies=None, \n",
    "            val_combined=None, \n",
    "            val_labels=None, \n",
    "            epochs=35, \n",
    "            lr=5e-3, \n",
    "            verbose=True):\n",
    "        \n",
    "        losses = {\n",
    "            'train' : [], \n",
    "            'val' : []\n",
    "        }\n",
    "            \n",
    "        optimizer = self.optimizer(self.model.parameters(), lr=lr)\n",
    "        \n",
    "        labels = np.array(labels)\n",
    "        \n",
    "        for epoch in range(epochs):\n",
    "            indices = np.arange(titles.shape[0])\n",
    "            np.random.shuffle(indices)\n",
    "\n",
    "            titles = titles[indices]\n",
    "            bodies = bodies[indices]\n",
    "            combined = combined[indices]\n",
    "            labels = labels[indices]\n",
    "            \n",
    "            titles_tensor = torch.from_numpy(titles).to(self.device)\n",
    "            bodies_tensor = torch.from_numpy(bodies).to(self.device)\n",
    "            combined_tensor = torch.from_numpy(combined).to(self.device)\n",
    "            \n",
    "            labels = torch.FloatTensor(list(map(list, labels))).to(self.device)\n",
    "            \n",
    "            optimizer.zero_grad()\n",
    "            outputs = self.forward(titles_tensor, bodies_tensor, combined_tensor)\n",
    "                        \n",
    "            loss = self.loss(outputs, labels)\n",
    "            \n",
    "            loss.backward()\n",
    "            optimizer.step()\n",
    "            \n",
    "            losses['train'].append(loss.item())\n",
    "            if validation:\n",
    "                val_loss = self.evaluate(val_titles, val_bodies, val_combined, val_labels)\n",
    "                losses['val'].append(val_loss)\n",
    "            \n",
    "            if verbose:\n",
    "                print(f'Epoch: {epoch+1}')\n",
    "                print(f'Training loss: {loss.item()}')\n",
    "                if validation:\n",
    "                    print(f'Validation loss: {val_loss}')\n",
    "                    print('Validation Accuracy: ', accuracy(np.where(outputs.detach().cpu().numpy() > .5, 1, 0), \n",
    "                                                            labels.detach().cpu().numpy()))\n",
    "                print()\n",
    "                        \n",
    "        return outputs.detach().cpu().numpy(), losses\n",
    "    \n",
    "    \n",
    "    def evaluate(self, titles, bodies, combined, labels):\n",
    "        losses = []\n",
    "        \n",
    "        titles_tensor = torch.from_numpy(titles).to(self.device)\n",
    "        bodies_tensor = torch.from_numpy(bodies).to(self.device)\n",
    "        combined_tensor = torch.from_numpy(combined).to(self.device)\n",
    "        \n",
    "        labels = torch.FloatTensor(list(map(list, labels))).to(self.device)\n",
    "        \n",
    "        outputs = self.forward(titles_tensor, bodies_tensor, combined_tensor, train=False)\n",
    "        \n",
    "        loss = self.loss(outputs, labels)\n",
    "        \n",
    "        return loss.detach().cpu().item()\n",
    "    \n",
    "    \n",
    "    def predict(self, titles, bodies, combined):\n",
    "        titles_tensor = torch.from_numpy(titles).to(self.device)\n",
    "        bodies_tensor = torch.from_numpy(bodies).to(self.device)\n",
    "        combined_tensor = torch.from_numpy(combined).to(self.device)\n",
    "        \n",
    "        predictions = self.forward(titles_tensor, bodies_tensor, combined_tensor, train=False)\n",
    "        \n",
    "        return predictions.detach().cpu().numpy()"
   ]
  },
  {
   "cell_type": "markdown",
   "metadata": {},
   "source": [
    "## 2.2. Define the hyperparameters and start the training"
   ]
  },
  {
   "cell_type": "code",
   "execution_count": null,
   "metadata": {
    "scrolled": true
   },
   "outputs": [],
   "source": [
    "EPOCHS = 35\n",
    "\n",
    "head = ScoresHead()\n",
    "model_outputs, losses = head.fit(train_scores_titles, \n",
    "                                 train_scores_bodies, \n",
    "                                 train_scores_combined, \n",
    "                                 train_labels, \n",
    "                                 val_titles=val_scores_titles, \n",
    "                                 val_bodies=val_scores_bodies, \n",
    "                                 val_combined=val_scores_combined, \n",
    "                                 val_labels=val_labels, \n",
    "                                 verbose=True, \n",
    "                                 epochs=EPOCHS)"
   ]
  },
  {
   "cell_type": "markdown",
   "metadata": {},
   "source": [
    "## 2.3. Visualize the training results"
   ]
  },
  {
   "cell_type": "code",
   "execution_count": 18,
   "metadata": {},
   "outputs": [
    {
     "data": {
      "image/png": "[encoded data removed]",
      "text/plain": [
       "<Figure size 432x288 with 1 Axes>"
      ]
     },
     "metadata": {
      "needs_background": "light"
     },
     "output_type": "display_data"
    }
   ],
   "source": [
    "plt.figure()\n",
    "plt.title('Training Performance')\n",
    "plt.xlabel('Epoch')\n",
    "plt.ylabel('Loss')\n",
    "plt.plot([i for i in range(EPOCHS)], losses['train'], color='orange', label='Train Loss')\n",
    "plt.plot([i for i in range(EPOCHS)], losses['val'], color='green', label='Validation Loss')\n",
    "plt.legend(loc=\"upper right\")\n",
    "plt.show()"
   ]
  },
  {
   "cell_type": "markdown",
   "metadata": {},
   "source": [
    "## 2.4. Save the trained head\n",
    "\n",
    "The head is save in the same directory as the fine-tuned model. "
   ]
  },
  {
   "cell_type": "code",
   "execution_count": 19,
   "metadata": {},
   "outputs": [],
   "source": [
    "torch.save(head.state_dict(), os.path.join(model_path, 'scores_head.pt'))"
   ]
  },
  {
   "cell_type": "code",
   "execution_count": null,
   "metadata": {},
   "outputs": [],
   "source": []
  }
 ],
 "metadata": {
  "kernelspec": {
   "display_name": "Python 3",
   "language": "python",
   "name": "python3"
  },
  "language_info": {
   "codemirror_mode": {
    "name": "ipython",
    "version": 3
   },
   "file_extension": ".py",
   "mimetype": "text/x-python",
   "name": "python",
   "nbconvert_exporter": "python",
   "pygments_lexer": "ipython3",
   "version": "3.6.9"
  }
 },
 "nbformat": 4,
 "nbformat_minor": 2
}
