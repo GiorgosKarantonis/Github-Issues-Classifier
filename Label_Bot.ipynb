{
  "nbformat": 4,
  "nbformat_minor": 0,
  "metadata": {
    "colab": {
      "name": "Label Bot.ipynb",
      "provenance": [],
      "collapsed_sections": []
    },
    "kernelspec": {
      "name": "python3",
      "display_name": "Python 3"
    }
  },
  "cells": [
    {
      "cell_type": "markdown",
      "metadata": {
        "id": "A0oWJJZARFP8",
        "colab_type": "text"
      },
      "source": [
        "# **1. Prepare the environment**"
      ]
    },
    {
      "cell_type": "markdown",
      "metadata": {
        "id": "W8rrR4mFRWWX",
        "colab_type": "text"
      },
      "source": [
        "## **1.1 Fetch the \"Label-Bot\" repo and modify it so that it can be used in colab**"
      ]
    },
    {
      "cell_type": "code",
      "metadata": {
        "id": "2FufcnMRQ75Y",
        "colab_type": "code",
        "colab": {}
      },
      "source": [
        "!git clone https://github.com/GiorgosKarantonis/Label-Bot\n",
        "\n",
        "!mv Label-Bot Label_Bot\n",
        "!touch Label_Bot/__init__.py"
      ],
      "execution_count": null,
      "outputs": []
    },
    {
      "cell_type": "markdown",
      "metadata": {
        "id": "RBsroC2GRnLy",
        "colab_type": "text"
      },
      "source": [
        "## **1.2 Mount google drive in order to be able to access the preprocessed dataset**"
      ]
    },
    {
      "cell_type": "code",
      "metadata": {
        "id": "7zFENsN0ROgX",
        "colab_type": "code",
        "colab": {}
      },
      "source": [
        "from google.colab import drive\n",
        "drive.mount('/content/drive')"
      ],
      "execution_count": null,
      "outputs": []
    },
    {
      "cell_type": "markdown",
      "metadata": {
        "id": "RppdICi9R4Kx",
        "colab_type": "text"
      },
      "source": [
        "# **2. Prepare the Label Bot**"
      ]
    },
    {
      "cell_type": "markdown",
      "metadata": {
        "id": "HCai1FSsSFa6",
        "colab_type": "text"
      },
      "source": [
        "## **2.1 Import all the required libraries**"
      ]
    },
    {
      "cell_type": "code",
      "metadata": {
        "id": "pT91mvT8Xcei",
        "colab_type": "code",
        "colab": {}
      },
      "source": [
        "import time\n",
        "import itertools\n",
        "\n",
        "import numpy as np\n",
        "import pandas as pd\n",
        "import tensorflow as tf\n",
        "\n",
        "import Label_Bot.preprocessing as pp\n",
        "\n",
        "try:\n",
        "    from transformers import BertTokenizer, DistilBertTokenizer, DistilBertTokenizerFast\n",
        "    from transformers import TFBertModel, TFDistilBertModel\n",
        "    from transformers import TFBertForSequenceClassification, TFDistilBertForSequenceClassification\n",
        "except:\n",
        "    !pip install transformers==3.0.0\n",
        "\n",
        "    from transformers import BertTokenizer, DistilBertTokenizer, DistilBertTokenizerFast\n",
        "    from transformers import TFBertModel, TFDistilBertModel\n",
        "    from transformers import TFBertForSequenceClassification, TFDistilBertForSequenceClassification"
      ],
      "execution_count": null,
      "outputs": []
    },
    {
      "cell_type": "markdown",
      "metadata": {
        "id": "4iWmKUq9SKN8",
        "colab_type": "text"
      },
      "source": [
        "## **2.2 Define the hyperparameters and the global variables**"
      ]
    },
    {
      "cell_type": "code",
      "metadata": {
        "id": "W_CPf63QXKTq",
        "colab_type": "code",
        "colab": {}
      },
      "source": [
        "MEMORY_LIMIT = 100\t# set to None if you don't want to apply any limit\n",
        "\n",
        "# a dummy set of labels used for the proof of concept\n",
        "LABELS = [\n",
        "\t'bug', \n",
        "\t'enhancement', \n",
        "\t'question', \n",
        "\t'undefined'\n",
        "]\n",
        "\n",
        "# an actual set of labels that the bot should be able to predict\n",
        "EXAMPLE_LABELS = [\n",
        "\t'bug', \n",
        "\t'enhancement', \n",
        "\t'documentation', \n",
        "\t'duplicate', \n",
        "\t'maintenance', \n",
        "\t'good first issue', \n",
        "\t'help wanted', \n",
        "\t'invalid', \n",
        "\t'question', \n",
        "\t\"won't fix\", \n",
        "\t'status: proposal', \n",
        "\t'status: available', \n",
        "\t'status: in progress', \n",
        "\t'status: on hold', \n",
        "\t'status: blocked', \n",
        "\t'status: abandoned', \n",
        "\t'status: review needed', \n",
        "\t'priority: low', \n",
        "\t'priority: medium', \n",
        "\t'priority: high', \n",
        "\t'priority: critical'\n",
        "]"
      ],
      "execution_count": null,
      "outputs": []
    },
    {
      "cell_type": "markdown",
      "metadata": {
        "id": "TQJNjETLSisM",
        "colab_type": "text"
      },
      "source": [
        "## **2.3 Load the preprocessed dataset**"
      ]
    },
    {
      "cell_type": "code",
      "metadata": {
        "id": "Xls3RgFvGuBI",
        "colab_type": "code",
        "colab": {
          "base_uri": "https://localhost:8080/",
          "height": 580
        },
        "outputId": "eabcd312-cb36-448b-cb8b-0142ce77822f"
      },
      "source": [
        "df = pp.load_data(memory_limit=MEMORY_LIMIT, file='./drive/My Drive/Label Bot/data/github.pkl')\n",
        "\n",
        "for c in df.columns:\n",
        "    if c.startswith('label_'):\n",
        "        df = df.drop(c, axis=1)\n",
        "\n",
        "df"
      ],
      "execution_count": null,
      "outputs": [
        {
          "output_type": "execute_result",
          "data": {
            "text/html": [
              "<div>\n",
              "<style scoped>\n",
              "    .dataframe tbody tr th:only-of-type {\n",
              "        vertical-align: middle;\n",
              "    }\n",
              "\n",
              "    .dataframe tbody tr th {\n",
              "        vertical-align: top;\n",
              "    }\n",
              "\n",
              "    .dataframe thead th {\n",
              "        text-align: right;\n",
              "    }\n",
              "</style>\n",
              "<table border=\"1\" class=\"dataframe\">\n",
              "  <thead>\n",
              "    <tr style=\"text-align: right;\">\n",
              "      <th></th>\n",
              "      <th>url</th>\n",
              "      <th>repo</th>\n",
              "      <th>title</th>\n",
              "      <th>body</th>\n",
              "      <th>labels</th>\n",
              "      <th>user</th>\n",
              "      <th>repo_name</th>\n",
              "      <th>issue_number</th>\n",
              "    </tr>\n",
              "  </thead>\n",
              "  <tbody>\n",
              "    <tr>\n",
              "      <th>0</th>\n",
              "      <td>https://github.com/F5Networks/f5-openstack-lba...</td>\n",
              "      <td>F5Networks/f5-openstack-lbaasv2-driver</td>\n",
              "      <td>test_l7policies_and_rules.py:testl7basicupdate...</td>\n",
              "      <td>title: test_l7policies_and_rules.py:testl7basi...</td>\n",
              "      <td>[s3, p3, test-bug]</td>\n",
              "      <td>F5Networks</td>\n",
              "      <td>f5-openstack-lbaasv2-driver</td>\n",
              "      <td>835</td>\n",
              "    </tr>\n",
              "    <tr>\n",
              "      <th>1</th>\n",
              "      <td>https://github.com/aspnet/Mvc/issues/6339</td>\n",
              "      <td>aspnet/Mvc</td>\n",
              "      <td>testing all controllers dependency injection</td>\n",
              "      <td>i'm writing integration tests for my applicati...</td>\n",
              "      <td>[question]</td>\n",
              "      <td>aspnet</td>\n",
              "      <td>Mvc</td>\n",
              "      <td>6339</td>\n",
              "    </tr>\n",
              "    <tr>\n",
              "      <th>2</th>\n",
              "      <td>https://github.com/ionic-team/ionic-cli/issues...</td>\n",
              "      <td>ionic-team/ionic-cli</td>\n",
              "      <td>testing ionic4 - serve shows two displays</td>\n",
              "      <td>\\r   description:  \\r ionic serve shows two di...</td>\n",
              "      <td>[bug]</td>\n",
              "      <td>ionic-team</td>\n",
              "      <td>ionic-cli</td>\n",
              "      <td>3044</td>\n",
              "    </tr>\n",
              "    <tr>\n",
              "      <th>3</th>\n",
              "      <td>https://github.com/thefarwind/chip-8/issues/21</td>\n",
              "      <td>thefarwind/chip-8</td>\n",
              "      <td>tests are all broken</td>\n",
              "      <td>when switching chip8 such that the audio, disp...</td>\n",
              "      <td>[bug, tests]</td>\n",
              "      <td>thefarwind</td>\n",
              "      <td>chip-8</td>\n",
              "      <td>21</td>\n",
              "    </tr>\n",
              "    <tr>\n",
              "      <th>4</th>\n",
              "      <td>https://github.com/n-sokolov/CoffeeShop/issues/1</td>\n",
              "      <td>n-sokolov/CoffeeShop</td>\n",
              "      <td>tests for paging</td>\n",
              "      <td>_  context  _: paging mechanism must be tested...</td>\n",
              "      <td>[enhancement]</td>\n",
              "      <td>n-sokolov</td>\n",
              "      <td>CoffeeShop</td>\n",
              "      <td>1</td>\n",
              "    </tr>\n",
              "    <tr>\n",
              "      <th>...</th>\n",
              "      <td>...</td>\n",
              "      <td>...</td>\n",
              "      <td>...</td>\n",
              "      <td>...</td>\n",
              "      <td>...</td>\n",
              "      <td>...</td>\n",
              "      <td>...</td>\n",
              "      <td>...</td>\n",
              "    </tr>\n",
              "    <tr>\n",
              "      <th>95</th>\n",
              "      <td>https://github.com/CHEF-KOCH/NoScript-Whitelis...</td>\n",
              "      <td>CHEF-KOCH/NoScript-Whitelist</td>\n",
              "      <td>ublock sync issue</td>\n",
              "      <td>on a huge filter-list  like we have  ub refuse...</td>\n",
              "      <td>[extension-bug, status: stale]</td>\n",
              "      <td>CHEF-KOCH</td>\n",
              "      <td>NoScript-Whitelist</td>\n",
              "      <td>5</td>\n",
              "    </tr>\n",
              "    <tr>\n",
              "      <th>96</th>\n",
              "      <td>https://github.com/Aluxian/Whatsie/issues/63</td>\n",
              "      <td>Aluxian/Whatsie</td>\n",
              "      <td>ubuntu linux: package operation failed</td>\n",
              "      <td>dear @aluxian,\\r \\r thanks for your latest rel...</td>\n",
              "      <td>[bug, done]</td>\n",
              "      <td>Aluxian</td>\n",
              "      <td>Whatsie</td>\n",
              "      <td>63</td>\n",
              "    </tr>\n",
              "    <tr>\n",
              "      <th>97</th>\n",
              "      <td>https://github.com/rosevalfbj/CommSys/issues/5</td>\n",
              "      <td>rosevalfbj/CommSys</td>\n",
              "      <td>ufrmcomissoes - auto-calculo do valor da comissão</td>\n",
              "      <td>realizar automaticamente do valor da comissão.</td>\n",
              "      <td>[enhancement]</td>\n",
              "      <td>rosevalfbj</td>\n",
              "      <td>CommSys</td>\n",
              "      <td>5</td>\n",
              "    </tr>\n",
              "    <tr>\n",
              "      <th>98</th>\n",
              "      <td>https://github.com/TeXworks/texworks/issues/742</td>\n",
              "      <td>TeXworks/texworks</td>\n",
              "      <td>ugly magnifying glass in preview window, weird...</td>\n",
              "      <td>_steps to reproduce the problem_: 1. compile a...</td>\n",
              "      <td>[bug, pdf previewer]</td>\n",
              "      <td>TeXworks</td>\n",
              "      <td>texworks</td>\n",
              "      <td>742</td>\n",
              "    </tr>\n",
              "    <tr>\n",
              "      <th>99</th>\n",
              "      <td>https://github.com/BuddyForms/BuddyForms/issue...</td>\n",
              "      <td>BuddyForms/BuddyForms</td>\n",
              "      <td>ugly pagination in form submission</td>\n",
              "      <td>when the submission area in the backend show t...</td>\n",
              "      <td>[bug]</td>\n",
              "      <td>BuddyForms</td>\n",
              "      <td>BuddyForms</td>\n",
              "      <td>216</td>\n",
              "    </tr>\n",
              "  </tbody>\n",
              "</table>\n",
              "<p>100 rows × 8 columns</p>\n",
              "</div>"
            ],
            "text/plain": [
              "                                                  url  ... issue_number\n",
              "0   https://github.com/F5Networks/f5-openstack-lba...  ...          835\n",
              "1           https://github.com/aspnet/Mvc/issues/6339  ...         6339\n",
              "2   https://github.com/ionic-team/ionic-cli/issues...  ...         3044\n",
              "3      https://github.com/thefarwind/chip-8/issues/21  ...           21\n",
              "4    https://github.com/n-sokolov/CoffeeShop/issues/1  ...            1\n",
              "..                                                ...  ...          ...\n",
              "95  https://github.com/CHEF-KOCH/NoScript-Whitelis...  ...            5\n",
              "96       https://github.com/Aluxian/Whatsie/issues/63  ...           63\n",
              "97     https://github.com/rosevalfbj/CommSys/issues/5  ...            5\n",
              "98    https://github.com/TeXworks/texworks/issues/742  ...          742\n",
              "99  https://github.com/BuddyForms/BuddyForms/issue...  ...          216\n",
              "\n",
              "[100 rows x 8 columns]"
            ]
          },
          "metadata": {
            "tags": []
          },
          "execution_count": 24
        }
      ]
    },
    {
      "cell_type": "markdown",
      "metadata": {
        "id": "h35pU9YvAzX4",
        "colab_type": "text"
      },
      "source": [
        "## **2.4 Disambiguate the Labels**"
      ]
    },
    {
      "cell_type": "code",
      "metadata": {
        "id": "0kHpzwYaQ0a3",
        "colab_type": "code",
        "colab": {}
      },
      "source": [
        "def check_paraphrase(inputs):\n",
        "\ttokenizer = BertTokenizer.from_pretrained('bert-base-cased-finetuned-mrpc')\n",
        "\tmodel = TFBertForSequenceClassification.from_pretrained('bert-base-cased-finetuned-mrpc')\n",
        "\n",
        "\tinputs = tokenizer(\tinputs, \n",
        "\t\t\t\t\t\tpadding=True, \n",
        "\t\t\t\t\t\ttruncation=True, \n",
        "\t\t\t\t\t\treturn_tensors='tf')\n",
        "\n",
        "\tlogits = model(inputs)[0]\n",
        "\toutputs = tf.nn.softmax(logits, axis=1).numpy()\n",
        "\n",
        "\tnot_paraphrase_likelihood = outputs[:, 0]\n",
        "\tparaphrase_likelihood = outputs[:, 1]\n",
        "\n",
        "\treturn not_paraphrase_likelihood, paraphrase_likelihood"
      ],
      "execution_count": null,
      "outputs": []
    },
    {
      "cell_type": "markdown",
      "metadata": {
        "id": "rNYaKTCRCjL9",
        "colab_type": "text"
      },
      "source": [
        "### **2.4.1 Find the similarity between all the labels that are present in the dataset**"
      ]
    },
    {
      "cell_type": "code",
      "metadata": {
        "id": "stHHPo7uXmEC",
        "colab_type": "code",
        "colab": {}
      },
      "source": [
        "unique_labels = pp.get_unique_values(df, 'labels').keys().values\n",
        "combinations = np.array(list(itertools.combinations(unique_labels, 2))).tolist()\n",
        "\n",
        "_, paraphrase_likelihood = check_paraphrase(combinations)\n",
        "\n",
        "for i, pair in enumerate(combinations):\n",
        "\tif paraphrase_likelihood[i] > .8:\n",
        "\t\tprint(f'{pair[0]}\\t{pair[1]}\\t\\t{paraphrase_likelihood[i]}')"
      ],
      "execution_count": null,
      "outputs": []
    },
    {
      "cell_type": "markdown",
      "metadata": {
        "id": "vU80dNvvCt3R",
        "colab_type": "text"
      },
      "source": [
        "### **2.4.2 Find the similarity between the predefined labels and the labels that are present in the dataset**"
      ]
    },
    {
      "cell_type": "code",
      "metadata": {
        "id": "AKypfgDI5t8L",
        "colab_type": "code",
        "colab": {}
      },
      "source": [
        "paraphrase_list = []\n",
        "for target_l in LABELS:\n",
        "    for real_l in unique_labels:\n",
        "        paraphrase_list.append([target_l, real_l])\n",
        "\n",
        "_, paraphrase_likelihood = check_paraphrase(paraphrase_list)"
      ],
      "execution_count": null,
      "outputs": []
    },
    {
      "cell_type": "code",
      "metadata": {
        "id": "I_iI9e1arr2Q",
        "colab_type": "code",
        "colab": {}
      },
      "source": [
        "def disambiguate_labels(labels_dict, disambiguate='keep_most_probable'):\n",
        "    assert disambiguate in ['keep_most_probable', 'drop_all']\n",
        "\n",
        "    for key in labels_dict:\n",
        "        if len(labels_dict[key]) > 1:\n",
        "            if disambiguate == 'drop_all':\n",
        "                labels_dict[key] = [(None, None)]\n",
        "            else:\n",
        "                max_likelihood = 0\n",
        "                best_match = None\n",
        "\n",
        "                for label, likelihood in labels_dict[key]:\n",
        "                    if likelihood > max_likelihood:\n",
        "                        max_likelihood = likelihood\n",
        "                        best_match = label\n",
        "                \n",
        "                labels_dict[key] = [(best_match, likelihood)]\n",
        "    \n",
        "    return labels_dict"
      ],
      "execution_count": null,
      "outputs": []
    },
    {
      "cell_type": "markdown",
      "metadata": {
        "id": "g6XEyGA4I5Gu",
        "colab_type": "text"
      },
      "source": [
        "### **2.4.3 Find how the labels from the dataset relate to the predefined ones**"
      ]
    },
    {
      "cell_type": "code",
      "metadata": {
        "id": "C3PUeFMdjpG6",
        "colab_type": "code",
        "colab": {
          "base_uri": "https://localhost:8080/",
          "height": 225
        },
        "outputId": "009ebacd-a7cf-49b1-ffe6-f225cecb1240"
      },
      "source": [
        "label_mapping = {}\n",
        "for i, pair in enumerate(paraphrase_list):\n",
        "    if paraphrase_likelihood[i] > .5:\n",
        "        target_l, real_l = pair[0], pair[1]\n",
        "        try:\n",
        "            label_mapping[real_l].append((target_l, paraphrase_likelihood[i]))\n",
        "        except:\n",
        "            label_mapping[real_l] = []\n",
        "            label_mapping[real_l].append((target_l, paraphrase_likelihood[i]))\n",
        "\n",
        "label_mapping"
      ],
      "execution_count": null,
      "outputs": [
        {
          "output_type": "execute_result",
          "data": {
            "text/plain": [
              "{'bug': [('bug', 0.9162983)],\n",
              " 'bug report': [('bug', 0.6632633)],\n",
              " 'doc-enhancement': [('enhancement', 0.8313373)],\n",
              " 'enhancement': [('enhancement', 0.9370464)],\n",
              " 'extension-bug': [('bug', 0.62284034)],\n",
              " 'kind/bug': [('bug', 0.84865934)],\n",
              " 'kind/enhancement': [('enhancement', 0.90538484)],\n",
              " 'minor bug': [('bug', 0.5306739)],\n",
              " 'question': [('question', 0.9274783)],\n",
              " 'type-bug': [('bug', 0.799179)],\n",
              " 'type: bug': [('bug', 0.82417744)],\n",
              " 'type:visual bug': [('bug', 0.7715802)]}"
            ]
          },
          "metadata": {
            "tags": []
          },
          "execution_count": 31
        }
      ]
    },
    {
      "cell_type": "code",
      "metadata": {
        "id": "wxyFpC8bydU2",
        "colab_type": "code",
        "colab": {
          "base_uri": "https://localhost:8080/",
          "height": 225
        },
        "outputId": "8f429a34-44b6-455f-9a1d-ef95bd213a0a"
      },
      "source": [
        "label_mapping = disambiguate_labels(label_mapping)\n",
        "\n",
        "label_mapping"
      ],
      "execution_count": null,
      "outputs": [
        {
          "output_type": "execute_result",
          "data": {
            "text/plain": [
              "{'bug': [('bug', 0.9162983)],\n",
              " 'bug report': [('bug', 0.6632633)],\n",
              " 'doc-enhancement': [('enhancement', 0.8313373)],\n",
              " 'enhancement': [('enhancement', 0.9370464)],\n",
              " 'extension-bug': [('bug', 0.62284034)],\n",
              " 'kind/bug': [('bug', 0.84865934)],\n",
              " 'kind/enhancement': [('enhancement', 0.90538484)],\n",
              " 'minor bug': [('bug', 0.5306739)],\n",
              " 'question': [('question', 0.9274783)],\n",
              " 'type-bug': [('bug', 0.799179)],\n",
              " 'type: bug': [('bug', 0.82417744)],\n",
              " 'type:visual bug': [('bug', 0.7715802)]}"
            ]
          },
          "metadata": {
            "tags": []
          },
          "execution_count": 32
        }
      ]
    },
    {
      "cell_type": "code",
      "metadata": {
        "id": "fJJoJPU7ygnX",
        "colab_type": "code",
        "colab": {
          "base_uri": "https://localhost:8080/",
          "height": 225
        },
        "outputId": "1aa76017-f9b1-4212-cf18-e3d402424f8d"
      },
      "source": [
        "# clean the dict\n",
        "for key in label_mapping:\n",
        "    label_mapping[key] = label_mapping[key][0][0]\n",
        "\n",
        "label_mapping"
      ],
      "execution_count": null,
      "outputs": [
        {
          "output_type": "execute_result",
          "data": {
            "text/plain": [
              "{'bug': 'bug',\n",
              " 'bug report': 'bug',\n",
              " 'doc-enhancement': 'enhancement',\n",
              " 'enhancement': 'enhancement',\n",
              " 'extension-bug': 'bug',\n",
              " 'kind/bug': 'bug',\n",
              " 'kind/enhancement': 'enhancement',\n",
              " 'minor bug': 'bug',\n",
              " 'question': 'question',\n",
              " 'type-bug': 'bug',\n",
              " 'type: bug': 'bug',\n",
              " 'type:visual bug': 'bug'}"
            ]
          },
          "metadata": {
            "tags": []
          },
          "execution_count": 33
        }
      ]
    },
    {
      "cell_type": "code",
      "metadata": {
        "id": "dwbYglMDeeKt",
        "colab_type": "code",
        "colab": {
          "base_uri": "https://localhost:8080/",
          "height": 225
        },
        "outputId": "1f76fade-983e-4e69-9361-cc61ead3ced6"
      },
      "source": [
        "df['labels']"
      ],
      "execution_count": null,
      "outputs": [
        {
          "output_type": "execute_result",
          "data": {
            "text/plain": [
              "0                 [s3, p3, test-bug]\n",
              "1                         [question]\n",
              "2                              [bug]\n",
              "3                       [bug, tests]\n",
              "4                      [enhancement]\n",
              "                   ...              \n",
              "95    [extension-bug, status: stale]\n",
              "96                       [bug, done]\n",
              "97                     [enhancement]\n",
              "98              [bug, pdf previewer]\n",
              "99                             [bug]\n",
              "Name: labels, Length: 100, dtype: object"
            ]
          },
          "metadata": {
            "tags": []
          },
          "execution_count": 39
        }
      ]
    },
    {
      "cell_type": "code",
      "metadata": {
        "id": "pR-IXJDyXYT-",
        "colab_type": "code",
        "colab": {
          "base_uri": "https://localhost:8080/",
          "height": 225
        },
        "outputId": "e48ca390-2f17-45ad-9753-e2110d532f3e"
      },
      "source": [
        "mapped_labels = []\n",
        "\n",
        "for i, label_list in enumerate(df['labels']):\n",
        "    temp_labels = []\n",
        "    for l in label_list:\n",
        "        try:\n",
        "            temp_labels.append(label_mapping[l])\n",
        "        except:\n",
        "            pass\n",
        "    \n",
        "    if temp_labels:\n",
        "        mapped_labels.append(temp_labels)\n",
        "    else:\n",
        "        mapped_labels.append(['undefined'])\n",
        "\n",
        "df['labels'] = pd.Series(mapped_labels)\n",
        "df['labels']"
      ],
      "execution_count": null,
      "outputs": [
        {
          "output_type": "execute_result",
          "data": {
            "text/plain": [
              "0       [undefined]\n",
              "1        [question]\n",
              "2             [bug]\n",
              "3             [bug]\n",
              "4     [enhancement]\n",
              "          ...      \n",
              "95            [bug]\n",
              "96            [bug]\n",
              "97    [enhancement]\n",
              "98            [bug]\n",
              "99            [bug]\n",
              "Name: labels, Length: 100, dtype: object"
            ]
          },
          "metadata": {
            "tags": []
          },
          "execution_count": 50
        }
      ]
    },
    {
      "cell_type": "code",
      "metadata": {
        "id": "kj7QC2BeEmcI",
        "colab_type": "code",
        "colab": {
          "base_uri": "https://localhost:8080/",
          "height": 704
        },
        "outputId": "1c00b075-f334-4cae-9072-313ad2bd26a9"
      },
      "source": [
        "labels_vectorized = pp.vectorize(df['labels'], LABELS)\n",
        "df = pp.transform(df, to_add=[labels_vectorized])\n",
        "\n",
        "df"
      ],
      "execution_count": null,
      "outputs": [
        {
          "output_type": "stream",
          "text": [
            "Vectorizing Features...\n",
            "\n",
            "1 / 100\r2 / 100\r3 / 100\r4 / 100\r5 / 100\r6 / 100\r7 / 100\r8 / 100\r9 / 100\r10 / 100\r11 / 100\r12 / 100\r13 / 100\r14 / 100\r15 / 100\r16 / 100\r17 / 100\r18 / 100\r19 / 100\r20 / 100\r21 / 100\r22 / 100\r23 / 100\r24 / 100\r25 / 100\r26 / 100\r27 / 100\r28 / 100\r29 / 100\r30 / 100\r31 / 100\r32 / 100\r33 / 100\r34 / 100\r35 / 100\r36 / 100\r37 / 100\r38 / 100\r39 / 100\r40 / 100\r41 / 100\r42 / 100\r43 / 100\r44 / 100\r45 / 100\r46 / 100\r47 / 100\r48 / 100\r49 / 100\r50 / 100\r51 / 100\r52 / 100\r53 / 100\r54 / 100\r55 / 100\r56 / 100\r57 / 100\r58 / 100\r59 / 100\r60 / 100\r61 / 100\r62 / 100\r63 / 100\r64 / 100\r65 / 100\r66 / 100\r67 / 100\r68 / 100\r69 / 100\r70 / 100\r71 / 100\r72 / 100\r73 / 100\r74 / 100\r75 / 100\r76 / 100\r77 / 100\r78 / 100\r79 / 100\r80 / 100\r81 / 100\r82 / 100\r83 / 100\r84 / 100\r85 / 100\r86 / 100\r87 / 100\r88 / 100\r89 / 100\r90 / 100\r91 / 100\r92 / 100\r93 / 100\r94 / 100\r95 / 100\r96 / 100\r97 / 100\r98 / 100\r99 / 100\r100 / 100\rTransforming DataFrame...\n",
            "\n"
          ],
          "name": "stdout"
        },
        {
          "output_type": "execute_result",
          "data": {
            "text/html": [
              "<div>\n",
              "<style scoped>\n",
              "    .dataframe tbody tr th:only-of-type {\n",
              "        vertical-align: middle;\n",
              "    }\n",
              "\n",
              "    .dataframe tbody tr th {\n",
              "        vertical-align: top;\n",
              "    }\n",
              "\n",
              "    .dataframe thead th {\n",
              "        text-align: right;\n",
              "    }\n",
              "</style>\n",
              "<table border=\"1\" class=\"dataframe\">\n",
              "  <thead>\n",
              "    <tr style=\"text-align: right;\">\n",
              "      <th></th>\n",
              "      <th>url</th>\n",
              "      <th>repo</th>\n",
              "      <th>title</th>\n",
              "      <th>body</th>\n",
              "      <th>labels</th>\n",
              "      <th>user</th>\n",
              "      <th>repo_name</th>\n",
              "      <th>issue_number</th>\n",
              "      <th>bug</th>\n",
              "      <th>enhancement</th>\n",
              "      <th>question</th>\n",
              "      <th>undefined</th>\n",
              "    </tr>\n",
              "  </thead>\n",
              "  <tbody>\n",
              "    <tr>\n",
              "      <th>0</th>\n",
              "      <td>https://github.com/F5Networks/f5-openstack-lba...</td>\n",
              "      <td>F5Networks/f5-openstack-lbaasv2-driver</td>\n",
              "      <td>test_l7policies_and_rules.py:testl7basicupdate...</td>\n",
              "      <td>title: test_l7policies_and_rules.py:testl7basi...</td>\n",
              "      <td>[undefined]</td>\n",
              "      <td>F5Networks</td>\n",
              "      <td>f5-openstack-lbaasv2-driver</td>\n",
              "      <td>835</td>\n",
              "      <td>0.0</td>\n",
              "      <td>0.0</td>\n",
              "      <td>0.0</td>\n",
              "      <td>1.0</td>\n",
              "    </tr>\n",
              "    <tr>\n",
              "      <th>1</th>\n",
              "      <td>https://github.com/aspnet/Mvc/issues/6339</td>\n",
              "      <td>aspnet/Mvc</td>\n",
              "      <td>testing all controllers dependency injection</td>\n",
              "      <td>i'm writing integration tests for my applicati...</td>\n",
              "      <td>[question]</td>\n",
              "      <td>aspnet</td>\n",
              "      <td>Mvc</td>\n",
              "      <td>6339</td>\n",
              "      <td>0.0</td>\n",
              "      <td>0.0</td>\n",
              "      <td>1.0</td>\n",
              "      <td>0.0</td>\n",
              "    </tr>\n",
              "    <tr>\n",
              "      <th>2</th>\n",
              "      <td>https://github.com/ionic-team/ionic-cli/issues...</td>\n",
              "      <td>ionic-team/ionic-cli</td>\n",
              "      <td>testing ionic4 - serve shows two displays</td>\n",
              "      <td>\\r   description:  \\r ionic serve shows two di...</td>\n",
              "      <td>[bug]</td>\n",
              "      <td>ionic-team</td>\n",
              "      <td>ionic-cli</td>\n",
              "      <td>3044</td>\n",
              "      <td>1.0</td>\n",
              "      <td>0.0</td>\n",
              "      <td>0.0</td>\n",
              "      <td>0.0</td>\n",
              "    </tr>\n",
              "    <tr>\n",
              "      <th>3</th>\n",
              "      <td>https://github.com/thefarwind/chip-8/issues/21</td>\n",
              "      <td>thefarwind/chip-8</td>\n",
              "      <td>tests are all broken</td>\n",
              "      <td>when switching chip8 such that the audio, disp...</td>\n",
              "      <td>[bug]</td>\n",
              "      <td>thefarwind</td>\n",
              "      <td>chip-8</td>\n",
              "      <td>21</td>\n",
              "      <td>1.0</td>\n",
              "      <td>0.0</td>\n",
              "      <td>0.0</td>\n",
              "      <td>0.0</td>\n",
              "    </tr>\n",
              "    <tr>\n",
              "      <th>4</th>\n",
              "      <td>https://github.com/n-sokolov/CoffeeShop/issues/1</td>\n",
              "      <td>n-sokolov/CoffeeShop</td>\n",
              "      <td>tests for paging</td>\n",
              "      <td>_  context  _: paging mechanism must be tested...</td>\n",
              "      <td>[enhancement]</td>\n",
              "      <td>n-sokolov</td>\n",
              "      <td>CoffeeShop</td>\n",
              "      <td>1</td>\n",
              "      <td>0.0</td>\n",
              "      <td>1.0</td>\n",
              "      <td>0.0</td>\n",
              "      <td>0.0</td>\n",
              "    </tr>\n",
              "    <tr>\n",
              "      <th>...</th>\n",
              "      <td>...</td>\n",
              "      <td>...</td>\n",
              "      <td>...</td>\n",
              "      <td>...</td>\n",
              "      <td>...</td>\n",
              "      <td>...</td>\n",
              "      <td>...</td>\n",
              "      <td>...</td>\n",
              "      <td>...</td>\n",
              "      <td>...</td>\n",
              "      <td>...</td>\n",
              "      <td>...</td>\n",
              "    </tr>\n",
              "    <tr>\n",
              "      <th>95</th>\n",
              "      <td>https://github.com/CHEF-KOCH/NoScript-Whitelis...</td>\n",
              "      <td>CHEF-KOCH/NoScript-Whitelist</td>\n",
              "      <td>ublock sync issue</td>\n",
              "      <td>on a huge filter-list  like we have  ub refuse...</td>\n",
              "      <td>[bug]</td>\n",
              "      <td>CHEF-KOCH</td>\n",
              "      <td>NoScript-Whitelist</td>\n",
              "      <td>5</td>\n",
              "      <td>1.0</td>\n",
              "      <td>0.0</td>\n",
              "      <td>0.0</td>\n",
              "      <td>0.0</td>\n",
              "    </tr>\n",
              "    <tr>\n",
              "      <th>96</th>\n",
              "      <td>https://github.com/Aluxian/Whatsie/issues/63</td>\n",
              "      <td>Aluxian/Whatsie</td>\n",
              "      <td>ubuntu linux: package operation failed</td>\n",
              "      <td>dear @aluxian,\\r \\r thanks for your latest rel...</td>\n",
              "      <td>[bug]</td>\n",
              "      <td>Aluxian</td>\n",
              "      <td>Whatsie</td>\n",
              "      <td>63</td>\n",
              "      <td>1.0</td>\n",
              "      <td>0.0</td>\n",
              "      <td>0.0</td>\n",
              "      <td>0.0</td>\n",
              "    </tr>\n",
              "    <tr>\n",
              "      <th>97</th>\n",
              "      <td>https://github.com/rosevalfbj/CommSys/issues/5</td>\n",
              "      <td>rosevalfbj/CommSys</td>\n",
              "      <td>ufrmcomissoes - auto-calculo do valor da comissão</td>\n",
              "      <td>realizar automaticamente do valor da comissão.</td>\n",
              "      <td>[enhancement]</td>\n",
              "      <td>rosevalfbj</td>\n",
              "      <td>CommSys</td>\n",
              "      <td>5</td>\n",
              "      <td>0.0</td>\n",
              "      <td>1.0</td>\n",
              "      <td>0.0</td>\n",
              "      <td>0.0</td>\n",
              "    </tr>\n",
              "    <tr>\n",
              "      <th>98</th>\n",
              "      <td>https://github.com/TeXworks/texworks/issues/742</td>\n",
              "      <td>TeXworks/texworks</td>\n",
              "      <td>ugly magnifying glass in preview window, weird...</td>\n",
              "      <td>_steps to reproduce the problem_: 1. compile a...</td>\n",
              "      <td>[bug]</td>\n",
              "      <td>TeXworks</td>\n",
              "      <td>texworks</td>\n",
              "      <td>742</td>\n",
              "      <td>1.0</td>\n",
              "      <td>0.0</td>\n",
              "      <td>0.0</td>\n",
              "      <td>0.0</td>\n",
              "    </tr>\n",
              "    <tr>\n",
              "      <th>99</th>\n",
              "      <td>https://github.com/BuddyForms/BuddyForms/issue...</td>\n",
              "      <td>BuddyForms/BuddyForms</td>\n",
              "      <td>ugly pagination in form submission</td>\n",
              "      <td>when the submission area in the backend show t...</td>\n",
              "      <td>[bug]</td>\n",
              "      <td>BuddyForms</td>\n",
              "      <td>BuddyForms</td>\n",
              "      <td>216</td>\n",
              "      <td>1.0</td>\n",
              "      <td>0.0</td>\n",
              "      <td>0.0</td>\n",
              "      <td>0.0</td>\n",
              "    </tr>\n",
              "  </tbody>\n",
              "</table>\n",
              "<p>100 rows × 12 columns</p>\n",
              "</div>"
            ],
            "text/plain": [
              "                                                  url  ... undefined\n",
              "0   https://github.com/F5Networks/f5-openstack-lba...  ...       1.0\n",
              "1           https://github.com/aspnet/Mvc/issues/6339  ...       0.0\n",
              "2   https://github.com/ionic-team/ionic-cli/issues...  ...       0.0\n",
              "3      https://github.com/thefarwind/chip-8/issues/21  ...       0.0\n",
              "4    https://github.com/n-sokolov/CoffeeShop/issues/1  ...       0.0\n",
              "..                                                ...  ...       ...\n",
              "95  https://github.com/CHEF-KOCH/NoScript-Whitelis...  ...       0.0\n",
              "96       https://github.com/Aluxian/Whatsie/issues/63  ...       0.0\n",
              "97     https://github.com/rosevalfbj/CommSys/issues/5  ...       0.0\n",
              "98    https://github.com/TeXworks/texworks/issues/742  ...       0.0\n",
              "99  https://github.com/BuddyForms/BuddyForms/issue...  ...       0.0\n",
              "\n",
              "[100 rows x 12 columns]"
            ]
          },
          "metadata": {
            "tags": []
          },
          "execution_count": 53
        }
      ]
    },
    {
      "cell_type": "markdown",
      "metadata": {
        "id": "j_SG9iriSxfK",
        "colab_type": "text"
      },
      "source": [
        "# **3 Use the Pre-Trained Models**"
      ]
    },
    {
      "cell_type": "code",
      "metadata": {
        "id": "Sk_eSJnUKYyb",
        "colab_type": "code",
        "colab": {}
      },
      "source": [
        "tokenizer = BertTokenizer.from_pretrained('bert-base-cased')\n",
        "tokenizer_dstl = DistilBertTokenizer.from_pretrained('distilbert-base-uncased')\n",
        "tokenizer_dstl_fast = DistilBertTokenizerFast.from_pretrained('distilbert-base-uncased')\n",
        "\n",
        "model = TFBertModel.from_pretrained('bert-base-cased')\n",
        "model_dstl = TFDistilBertModel.from_pretrained('distilbert-base-uncased')\n",
        "\n",
        "model_cls = TFBertForSequenceClassification.from_pretrained('bert-base-cased')\n",
        "model_cls_dstl = TFDistilBertForSequenceClassification.from_pretrained('distilbert-base-uncased')"
      ],
      "execution_count": null,
      "outputs": []
    },
    {
      "cell_type": "markdown",
      "metadata": {
        "id": "0AEfYPmE__VU",
        "colab_type": "text"
      },
      "source": [
        "## **3.1 Get the Contextual Word Embeddings**"
      ]
    },
    {
      "cell_type": "code",
      "metadata": {
        "id": "76Z5uX5Z1Ynu",
        "colab_type": "code",
        "colab": {}
      },
      "source": [
        "def get_embeddings(data, tokenizer=tokenizer_dstl, model=model_dstl):\n",
        "    inputs = tokenizer(\tdata, \n",
        "                        padding=True, \n",
        "                        truncation=True, \n",
        "                        return_tensors='tf')\n",
        "\n",
        "    outputs = model(inputs)\n",
        "    logits = outputs[0]\n",
        "\n",
        "    return logits"
      ],
      "execution_count": null,
      "outputs": []
    },
    {
      "cell_type": "code",
      "metadata": {
        "id": "qwObheGj2Ch7",
        "colab_type": "code",
        "colab": {}
      },
      "source": [
        "embeddings_title = get_embeddings(df['title'].values.tolist())  # n_examples x n_words x 768\n",
        "embeddings_body = get_embeddings(df['body'].values.tolist())  # n_examples x n_words x 768"
      ],
      "execution_count": null,
      "outputs": []
    },
    {
      "cell_type": "markdown",
      "metadata": {
        "id": "bKJrIMfVA_2I",
        "colab_type": "text"
      },
      "source": [
        "## **3.2 Run the Pre-Trained Sequence Classification Model**\n",
        "\n",
        "Actually don't run it, it will fail...\n",
        "\n",
        "The pretrained model cannot handle Multilabel Classification tasks. Since the architecture won't rely solely on this model, it can be used to boost the training by: \n",
        "\n",
        "- Select randomly one target class when two or more are present. \n",
        "- Use all target classes when 2 or more are present but split them into different examples and add random noise. "
      ]
    },
    {
      "cell_type": "code",
      "metadata": {
        "id": "pgVUiD5MLG4U",
        "colab_type": "code",
        "colab": {}
      },
      "source": [
        "def seq_classification(data, labels, tokenizer=tokenizer_dstl, model=model_cls_dstl):\n",
        "    inputs = tokenizer(\tdata, \n",
        "                        padding=True, \n",
        "                        truncation=True, \n",
        "                        return_tensors='tf')\n",
        "\n",
        "    inputs['labels'] = tf.convert_to_tensor(np.array(labels).reshape(-1, 1))\n",
        "\n",
        "    outputs = model(inputs)\n",
        "    loss, logits = outputs[:2]\n",
        "\n",
        "    return loss, logits"
      ],
      "execution_count": null,
      "outputs": []
    },
    {
      "cell_type": "code",
      "metadata": {
        "id": "ZVgPnu2xFHTH",
        "colab_type": "code",
        "colab": {}
      },
      "source": [
        "labels_num = []  # 0: no label , i+1: for any other defined in LABELS\n",
        "for row in labels:\n",
        "    vector_to_num = 0\n",
        "    for j, column_value in enumerate(row):\n",
        "        vector_to_num += (j + 1) * column_value\n",
        "    \n",
        "    labels_num.append(vector_to_num)\n",
        "\n",
        "loss_cls_title, logits_cls_title = seq_classification(df['title'].values.tolist(), labels_num)  # loss: n_examples x 1 , logits: n_examples x n_labels\n",
        "loss_cls_body, logits_cls_body = seq_classification(df['body'].values.tolist(), labels_num)  # loss: n_examples x 1 , logits: n_examples x n_labels"
      ],
      "execution_count": null,
      "outputs": []
    }
  ]
}