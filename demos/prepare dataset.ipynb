{
 "cells": [
  {
   "cell_type": "markdown",
   "metadata": {},
   "source": [
    "# Load the dependencies and the helper functions"
   ]
  },
  {
   "cell_type": "code",
   "execution_count": 1,
   "metadata": {},
   "outputs": [],
   "source": [
    "import pandas as pd\n",
    "from Label_Bot.label_bot import utils"
   ]
  },
  {
   "cell_type": "markdown",
   "metadata": {},
   "source": [
    "# Load the full dataset\n",
    "More versions of the dataset can be found in **http://cs-people.bu.edu/giorgos/labelbot**. "
   ]
  },
  {
   "cell_type": "code",
   "execution_count": 2,
   "metadata": {},
   "outputs": [],
   "source": [
    "base_url = 'http://cs-people.bu.edu/giorgos/labelbot/'\n",
    "\n",
    "url = base_url + 'github.pkl'"
   ]
  },
  {
   "cell_type": "code",
   "execution_count": 3,
   "metadata": {},
   "outputs": [],
   "source": [
    "df = pd.read_pickle(url)"
   ]
  },
  {
   "cell_type": "code",
   "execution_count": 4,
   "metadata": {},
   "outputs": [
    {
     "data": {
      "text/html": [
       "<div>\n",
       "<style scoped>\n",
       "    .dataframe tbody tr th:only-of-type {\n",
       "        vertical-align: middle;\n",
       "    }\n",
       "\n",
       "    .dataframe tbody tr th {\n",
       "        vertical-align: top;\n",
       "    }\n",
       "\n",
       "    .dataframe thead th {\n",
       "        text-align: right;\n",
       "    }\n",
       "</style>\n",
       "<table border=\"1\" class=\"dataframe\">\n",
       "  <thead>\n",
       "    <tr style=\"text-align: right;\">\n",
       "      <th></th>\n",
       "      <th>Labels Present</th>\n",
       "      <th>Fraction</th>\n",
       "      <th>Examples</th>\n",
       "    </tr>\n",
       "  </thead>\n",
       "  <tbody>\n",
       "    <tr>\n",
       "      <th>0</th>\n",
       "      <td>Bug</td>\n",
       "      <td>0.440106</td>\n",
       "      <td>1397248</td>\n",
       "    </tr>\n",
       "    <tr>\n",
       "      <th>1</th>\n",
       "      <td>Question</td>\n",
       "      <td>0.085609</td>\n",
       "      <td>271792</td>\n",
       "    </tr>\n",
       "    <tr>\n",
       "      <th>2</th>\n",
       "      <td>Enhancement</td>\n",
       "      <td>0.380621</td>\n",
       "      <td>1208396</td>\n",
       "    </tr>\n",
       "    <tr>\n",
       "      <th>3</th>\n",
       "      <td>Bug, Question</td>\n",
       "      <td>0.000461</td>\n",
       "      <td>1463</td>\n",
       "    </tr>\n",
       "    <tr>\n",
       "      <th>4</th>\n",
       "      <td>Bug, Enhancement</td>\n",
       "      <td>0.001060</td>\n",
       "      <td>3364</td>\n",
       "    </tr>\n",
       "    <tr>\n",
       "      <th>5</th>\n",
       "      <td>Question, Enhancement</td>\n",
       "      <td>0.000250</td>\n",
       "      <td>795</td>\n",
       "    </tr>\n",
       "    <tr>\n",
       "      <th>6</th>\n",
       "      <td>Bug, Question, Enhancement</td>\n",
       "      <td>0.000001</td>\n",
       "      <td>4</td>\n",
       "    </tr>\n",
       "    <tr>\n",
       "      <th>7</th>\n",
       "      <td>Total</td>\n",
       "      <td>1.000000</td>\n",
       "      <td>3174798</td>\n",
       "    </tr>\n",
       "  </tbody>\n",
       "</table>\n",
       "</div>"
      ],
      "text/plain": [
       "               Labels Present  Fraction  Examples\n",
       "0                         Bug  0.440106   1397248\n",
       "1                    Question  0.085609    271792\n",
       "2                 Enhancement  0.380621   1208396\n",
       "3               Bug, Question  0.000461      1463\n",
       "4            Bug, Enhancement  0.001060      3364\n",
       "5       Question, Enhancement  0.000250       795\n",
       "6  Bug, Question, Enhancement  0.000001         4\n",
       "7                       Total  1.000000   3174798"
      ]
     },
     "execution_count": 4,
     "metadata": {},
     "output_type": "execute_result"
    }
   ],
   "source": [
    "utils.get_labels_stats(df)"
   ]
  },
  {
   "cell_type": "markdown",
   "metadata": {},
   "source": [
    "# Prepare the dataset for Masked Language Modeling\n",
    "\n",
    "You can skip this section if you're not interested in Language Modeling"
   ]
  },
  {
   "cell_type": "code",
   "execution_count": 5,
   "metadata": {},
   "outputs": [],
   "source": [
    "df, _ = utils.split_train_test(df, \n",
    "                               train_frac=.125, \n",
    "                               save=False)"
   ]
  },
  {
   "cell_type": "code",
   "execution_count": 6,
   "metadata": {},
   "outputs": [],
   "source": [
    "df, mlm_df = utils.split_train_test(df, \n",
    "                                    save=False)"
   ]
  },
  {
   "cell_type": "code",
   "execution_count": 7,
   "metadata": {},
   "outputs": [],
   "source": [
    "mlm_df_train, mlm_df_val, mlm_df_test = utils.split_train_test(mlm_df, \n",
    "                                                               save=False, \n",
    "                                                               validation=True, \n",
    "                                                               to_keep=['title', 'body'])"
   ]
  },
  {
   "cell_type": "code",
   "execution_count": 11,
   "metadata": {},
   "outputs": [],
   "source": [
    "utils.df_to_txt(mlm_df_train, name='train')\n",
    "utils.df_to_txt(mlm_df_val, name='val')\n",
    "utils.df_to_txt(mlm_df_test, name='test')\n",
    "\n",
    "del mlm_df, mlm_df_train, mlm_df_val, mlm_df_test"
   ]
  },
  {
   "cell_type": "markdown",
   "metadata": {},
   "source": [
    "# Prepare the dataset for classification"
   ]
  },
  {
   "cell_type": "markdown",
   "metadata": {},
   "source": [
    "## Sample the dataset\n",
    "We randomly keep only 20,000 examples from each class. Because the dataframe that corresponds to combinations of classes is too small, we keep all of its examples. \n",
    "<br>\n",
    "Keep in mind that for the classification dataset, we use only datapoints that haven't been seen by our language model, meaning that we don't sample from the 400k datapoints of the language modeling dataset. "
   ]
  },
  {
   "cell_type": "code",
   "execution_count": 5,
   "metadata": {},
   "outputs": [],
   "source": [
    "sample_size = int(2e+4)\n",
    "name = f'{int(sample_size / 1000)}k'"
   ]
  },
  {
   "cell_type": "code",
   "execution_count": 7,
   "metadata": {},
   "outputs": [],
   "source": [
    "bugs_df, questions_df, enhancements_df, combinations_df = utils.sample_df(df, \n",
    "                                                                          n=sample_size, \n",
    "                                                                          to_keep=['title', \n",
    "                                                                                   'body', \n",
    "                                                                                   'label_bug', \n",
    "                                                                                   'label_question', \n",
    "                                                                                   'label_enhancement'])"
   ]
  },
  {
   "cell_type": "markdown",
   "metadata": {},
   "source": [
    "## Split to train, test and validation sets. \n",
    "By default the split is done 70/30."
   ]
  },
  {
   "cell_type": "code",
   "execution_count": 8,
   "metadata": {},
   "outputs": [],
   "source": [
    "to_keep=['title', 'body', 'label_bug', 'label_question', 'label_enhancement']"
   ]
  },
  {
   "cell_type": "code",
   "execution_count": 9,
   "metadata": {},
   "outputs": [],
   "source": [
    "bugs_train, bugs_val, bugs_test = utils.split_train_test(bugs_df, \n",
    "                                                         save=False, \n",
    "                                                         validation=True, \n",
    "                                                         to_keep=to_keep)\n",
    "\n",
    "questions_train, questions_val, questions_test = utils.split_train_test(questions_df, \n",
    "                                                                        save=False, \n",
    "                                                                        validation=True, \n",
    "                                                                        to_keep=to_keep)\n",
    "\n",
    "enhancements_train, enhancements_val, enhancements_test = utils.split_train_test(enhancements_df, \n",
    "                                                                                 save=False, \n",
    "                                                                                 validation=True, \n",
    "                                                                                 to_keep=to_keep)\n",
    "\n",
    "combinations_train, combinations_val, combinations_test = utils.split_train_test(combinations_df, \n",
    "                                                                                 save=False, \n",
    "                                                                                 validation=True, \n",
    "                                                                                 to_keep=to_keep)"
   ]
  },
  {
   "cell_type": "code",
   "execution_count": 10,
   "metadata": {},
   "outputs": [],
   "source": [
    "train_df = pd.concat((bugs_train, \n",
    "                      questions_train, \n",
    "                      enhancements_train, \n",
    "                      combinations_train), axis=0, ignore_index=True)\n",
    "\n",
    "val_df = pd.concat((bugs_val, \n",
    "                      questions_val, \n",
    "                      enhancements_val, \n",
    "                      combinations_val), axis=0, ignore_index=True)\n",
    "\n",
    "test_df = pd.concat((bugs_test, \n",
    "                     questions_test, \n",
    "                     enhancements_test, \n",
    "                     combinations_test), axis=0, ignore_index=True)"
   ]
  },
  {
   "cell_type": "markdown",
   "metadata": {},
   "source": [
    "## Shuffle Dataframes"
   ]
  },
  {
   "cell_type": "code",
   "execution_count": 11,
   "metadata": {},
   "outputs": [],
   "source": [
    "train_df = train_df.sample(frac=1)\n",
    "val_df = val_df.sample(frac=1)\n",
    "test_df = test_df.sample(frac=1)"
   ]
  },
  {
   "cell_type": "markdown",
   "metadata": {},
   "source": [
    "## Check the distribution of classes in train and test set"
   ]
  },
  {
   "cell_type": "code",
   "execution_count": 12,
   "metadata": {},
   "outputs": [
    {
     "data": {
      "text/html": [
       "<div>\n",
       "<style scoped>\n",
       "    .dataframe tbody tr th:only-of-type {\n",
       "        vertical-align: middle;\n",
       "    }\n",
       "\n",
       "    .dataframe tbody tr th {\n",
       "        vertical-align: top;\n",
       "    }\n",
       "\n",
       "    .dataframe thead tr th {\n",
       "        text-align: left;\n",
       "    }\n",
       "</style>\n",
       "<table border=\"1\" class=\"dataframe\">\n",
       "  <thead>\n",
       "    <tr>\n",
       "      <th></th>\n",
       "      <th colspan=\"3\" halign=\"left\">Original Dataset</th>\n",
       "      <th colspan=\"3\" halign=\"left\">Train</th>\n",
       "      <th colspan=\"3\" halign=\"left\">Val</th>\n",
       "      <th colspan=\"3\" halign=\"left\">Test</th>\n",
       "    </tr>\n",
       "    <tr>\n",
       "      <th></th>\n",
       "      <th>Labels Present</th>\n",
       "      <th>Fraction</th>\n",
       "      <th>Examples</th>\n",
       "      <th>Labels Present</th>\n",
       "      <th>Fraction</th>\n",
       "      <th>Examples</th>\n",
       "      <th>Labels Present</th>\n",
       "      <th>Fraction</th>\n",
       "      <th>Examples</th>\n",
       "      <th>Labels Present</th>\n",
       "      <th>Fraction</th>\n",
       "      <th>Examples</th>\n",
       "    </tr>\n",
       "  </thead>\n",
       "  <tbody>\n",
       "    <tr>\n",
       "      <th>0</th>\n",
       "      <td>Bug</td>\n",
       "      <td>0.440106</td>\n",
       "      <td>1397248</td>\n",
       "      <td>Bug</td>\n",
       "      <td>0.304753</td>\n",
       "      <td>12600</td>\n",
       "      <td>Bug</td>\n",
       "      <td>0.304812</td>\n",
       "      <td>1400</td>\n",
       "      <td>Bug</td>\n",
       "      <td>0.304754</td>\n",
       "      <td>6000</td>\n",
       "    </tr>\n",
       "    <tr>\n",
       "      <th>1</th>\n",
       "      <td>Question</td>\n",
       "      <td>0.085609</td>\n",
       "      <td>271792</td>\n",
       "      <td>Question</td>\n",
       "      <td>0.304753</td>\n",
       "      <td>12600</td>\n",
       "      <td>Question</td>\n",
       "      <td>0.304812</td>\n",
       "      <td>1400</td>\n",
       "      <td>Question</td>\n",
       "      <td>0.304754</td>\n",
       "      <td>6000</td>\n",
       "    </tr>\n",
       "    <tr>\n",
       "      <th>2</th>\n",
       "      <td>Enhancement</td>\n",
       "      <td>0.380621</td>\n",
       "      <td>1208396</td>\n",
       "      <td>Enhancement</td>\n",
       "      <td>0.304753</td>\n",
       "      <td>12600</td>\n",
       "      <td>Enhancement</td>\n",
       "      <td>0.304812</td>\n",
       "      <td>1400</td>\n",
       "      <td>Enhancement</td>\n",
       "      <td>0.304754</td>\n",
       "      <td>6000</td>\n",
       "    </tr>\n",
       "    <tr>\n",
       "      <th>3</th>\n",
       "      <td>Bug, Question</td>\n",
       "      <td>0.000461</td>\n",
       "      <td>1463</td>\n",
       "      <td>Bug, Question</td>\n",
       "      <td>0.022518</td>\n",
       "      <td>931</td>\n",
       "      <td>Bug, Question</td>\n",
       "      <td>0.021337</td>\n",
       "      <td>98</td>\n",
       "      <td>Bug, Question</td>\n",
       "      <td>0.022044</td>\n",
       "      <td>434</td>\n",
       "    </tr>\n",
       "    <tr>\n",
       "      <th>4</th>\n",
       "      <td>Bug, Enhancement</td>\n",
       "      <td>0.001060</td>\n",
       "      <td>3364</td>\n",
       "      <td>Bug, Enhancement</td>\n",
       "      <td>0.051010</td>\n",
       "      <td>2109</td>\n",
       "      <td>Bug, Enhancement</td>\n",
       "      <td>0.053995</td>\n",
       "      <td>248</td>\n",
       "      <td>Bug, Enhancement</td>\n",
       "      <td>0.051148</td>\n",
       "      <td>1007</td>\n",
       "    </tr>\n",
       "    <tr>\n",
       "      <th>5</th>\n",
       "      <td>Question, Enhancement</td>\n",
       "      <td>0.000250</td>\n",
       "      <td>795</td>\n",
       "      <td>Question, Enhancement</td>\n",
       "      <td>0.012190</td>\n",
       "      <td>504</td>\n",
       "      <td>Question, Enhancement</td>\n",
       "      <td>0.010233</td>\n",
       "      <td>47</td>\n",
       "      <td>Question, Enhancement</td>\n",
       "      <td>0.012393</td>\n",
       "      <td>244</td>\n",
       "    </tr>\n",
       "    <tr>\n",
       "      <th>6</th>\n",
       "      <td>Bug, Question, Enhancement</td>\n",
       "      <td>0.000001</td>\n",
       "      <td>4</td>\n",
       "      <td>Bug, Question, Enhancement</td>\n",
       "      <td>0.000024</td>\n",
       "      <td>1</td>\n",
       "      <td>Bug, Question, Enhancement</td>\n",
       "      <td>0.000000</td>\n",
       "      <td>0</td>\n",
       "      <td>Bug, Question, Enhancement</td>\n",
       "      <td>0.000152</td>\n",
       "      <td>3</td>\n",
       "    </tr>\n",
       "    <tr>\n",
       "      <th>7</th>\n",
       "      <td>Total</td>\n",
       "      <td>1.000000</td>\n",
       "      <td>3174798</td>\n",
       "      <td>Total</td>\n",
       "      <td>1.000000</td>\n",
       "      <td>41345</td>\n",
       "      <td>Total</td>\n",
       "      <td>1.000000</td>\n",
       "      <td>4593</td>\n",
       "      <td>Total</td>\n",
       "      <td>1.000000</td>\n",
       "      <td>19688</td>\n",
       "    </tr>\n",
       "  </tbody>\n",
       "</table>\n",
       "</div>"
      ],
      "text/plain": [
       "             Original Dataset                                          Train  \\\n",
       "               Labels Present  Fraction Examples              Labels Present   \n",
       "0                         Bug  0.440106  1397248                         Bug   \n",
       "1                    Question  0.085609   271792                    Question   \n",
       "2                 Enhancement  0.380621  1208396                 Enhancement   \n",
       "3               Bug, Question  0.000461     1463               Bug, Question   \n",
       "4            Bug, Enhancement  0.001060     3364            Bug, Enhancement   \n",
       "5       Question, Enhancement  0.000250      795       Question, Enhancement   \n",
       "6  Bug, Question, Enhancement  0.000001        4  Bug, Question, Enhancement   \n",
       "7                       Total  1.000000  3174798                       Total   \n",
       "\n",
       "                                             Val                     \\\n",
       "   Fraction Examples              Labels Present  Fraction Examples   \n",
       "0  0.304753    12600                         Bug  0.304812     1400   \n",
       "1  0.304753    12600                    Question  0.304812     1400   \n",
       "2  0.304753    12600                 Enhancement  0.304812     1400   \n",
       "3  0.022518      931               Bug, Question  0.021337       98   \n",
       "4  0.051010     2109            Bug, Enhancement  0.053995      248   \n",
       "5  0.012190      504       Question, Enhancement  0.010233       47   \n",
       "6  0.000024        1  Bug, Question, Enhancement  0.000000        0   \n",
       "7  1.000000    41345                       Total  1.000000     4593   \n",
       "\n",
       "                         Test                     \n",
       "               Labels Present  Fraction Examples  \n",
       "0                         Bug  0.304754     6000  \n",
       "1                    Question  0.304754     6000  \n",
       "2                 Enhancement  0.304754     6000  \n",
       "3               Bug, Question  0.022044      434  \n",
       "4            Bug, Enhancement  0.051148     1007  \n",
       "5       Question, Enhancement  0.012393      244  \n",
       "6  Bug, Question, Enhancement  0.000152        3  \n",
       "7                       Total  1.000000    19688  "
      ]
     },
     "execution_count": 12,
     "metadata": {},
     "output_type": "execute_result"
    }
   ],
   "source": [
    "df_stats = utils.get_labels_stats(df)\n",
    "train_stats = utils.get_labels_stats(train_df)\n",
    "val_stats = utils.get_labels_stats(val_df)\n",
    "test_stats = utils.get_labels_stats(test_df)\n",
    "\n",
    "pd.DataFrame(pd.concat([df_stats, \n",
    "                        train_stats, \n",
    "                        val_stats, \n",
    "                        test_stats], \n",
    "                       axis=1, \n",
    "                       keys=['Original Dataset', 'Train', 'Val', 'Test']))"
   ]
  },
  {
   "cell_type": "markdown",
   "metadata": {},
   "source": [
    "## Save the train and test set"
   ]
  },
  {
   "cell_type": "code",
   "execution_count": 13,
   "metadata": {},
   "outputs": [],
   "source": [
    "train_df.to_pickle(f'train_{name}.pkl')\n",
    "val_df.to_pickle(f'val_{name}.pkl')\n",
    "test_df.to_pickle(f'test_{name}.pkl')"
   ]
  },
  {
   "cell_type": "code",
   "execution_count": null,
   "metadata": {},
   "outputs": [],
   "source": []
  }
 ],
 "metadata": {
  "kernelspec": {
   "display_name": "Python 3",
   "language": "python",
   "name": "python3"
  },
  "language_info": {
   "codemirror_mode": {
    "name": "ipython",
    "version": 3
   },
   "file_extension": ".py",
   "mimetype": "text/x-python",
   "name": "python",
   "nbconvert_exporter": "python",
   "pygments_lexer": "ipython3",
   "version": "3.6.9"
  }
 },
 "nbformat": 4,
 "nbformat_minor": 2
}
