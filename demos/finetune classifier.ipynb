{
 "cells": [
  {
   "cell_type": "markdown",
   "metadata": {},
   "source": [
    "## Load the necessary libraries"
   ]
  },
  {
   "cell_type": "code",
   "execution_count": 1,
   "metadata": {},
   "outputs": [],
   "source": [
    "import pandas as pd\n",
    "\n",
    "from Label_Bot.label_bot import utils"
   ]
  },
  {
   "cell_type": "markdown",
   "metadata": {},
   "source": [
    "## Load the data"
   ]
  },
  {
   "cell_type": "code",
   "execution_count": 2,
   "metadata": {},
   "outputs": [],
   "source": [
    "base_url = './'\n",
    "file_type = '20k'\n",
    "\n",
    "train_url = f'{base_url}train_{file_type}.pkl'\n",
    "val_url = f'{base_url}val_{file_type}.pkl'\n",
    "test_url = f'{base_url}test_{file_type}.pkl'"
   ]
  },
  {
   "cell_type": "code",
   "execution_count": 3,
   "metadata": {},
   "outputs": [],
   "source": [
    "train_df = pd.read_pickle(train_url)\n",
    "val_df = pd.read_pickle(val_url)\n",
    "test_df = pd.read_pickle(test_url)"
   ]
  },
  {
   "cell_type": "code",
   "execution_count": 4,
   "metadata": {},
   "outputs": [],
   "source": [
    "train_df = utils.make_st_compatible(train_df)\n",
    "val_df = utils.make_st_compatible(val_df)\n",
    "test_df = utils.make_st_compatible(test_df)"
   ]
  },
  {
   "cell_type": "markdown",
   "metadata": {},
   "source": [
    "## Train and Evaluate"
   ]
  },
  {
   "cell_type": "code",
   "execution_count": 5,
   "metadata": {},
   "outputs": [],
   "source": [
    "EPOCHS = 3\n",
    "LR = 3e-5\n",
    "BATCH_SIZE = 2"
   ]
  },
  {
   "cell_type": "code",
   "execution_count": 6,
   "metadata": {},
   "outputs": [],
   "source": [
    "model_args = {\n",
    "    'show_running_loss' : True, \n",
    "    \n",
    "    'train_batch_size':BATCH_SIZE, \n",
    "    'gradient_accumulation_steps':16, \n",
    "    'learning_rate': LR, \n",
    "    'num_train_epochs': EPOCHS, \n",
    "    \n",
    "    'max_seq_length': 512, \n",
    "    \n",
    "    'save_steps': 0, \n",
    "    'save_model_every_epoch' : True, \n",
    "    'overwrite_output_dir': True, \n",
    "    \n",
    "    'reprocess_input_data': True, \n",
    "    'evaluate_during_training': True, \n",
    "    \n",
    "    'process_count' : 1, \n",
    "    'n_gpu': 2\n",
    "}"
   ]
  },
  {
   "cell_type": "code",
   "execution_count": null,
   "metadata": {},
   "outputs": [],
   "source": [
    "model = utils.load_model(model_args, task='mlc')"
   ]
  },
  {
   "cell_type": "code",
   "execution_count": null,
   "metadata": {
    "scrolled": true
   },
   "outputs": [],
   "source": [
    "model.train_model(train_df, eval_df=val_df, multi_label=True)"
   ]
  },
  {
   "cell_type": "code",
   "execution_count": null,
   "metadata": {},
   "outputs": [],
   "source": [
    "result, model_outputs, wrong_predictions = model.eval_model(test_df)"
   ]
  },
  {
   "cell_type": "code",
   "execution_count": null,
   "metadata": {},
   "outputs": [],
   "source": [
    "result"
   ]
  },
  {
   "cell_type": "code",
   "execution_count": null,
   "metadata": {},
   "outputs": [],
   "source": []
  }
 ],
 "metadata": {
  "kernelspec": {
   "display_name": "Python 3",
   "language": "python",
   "name": "python3"
  },
  "language_info": {
   "codemirror_mode": {
    "name": "ipython",
    "version": 3
   },
   "file_extension": ".py",
   "mimetype": "text/x-python",
   "name": "python",
   "nbconvert_exporter": "python",
   "pygments_lexer": "ipython3",
   "version": "3.6.9"
  }
 },
 "nbformat": 4,
 "nbformat_minor": 2
}
