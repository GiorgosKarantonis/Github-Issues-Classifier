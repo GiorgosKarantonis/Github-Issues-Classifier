{
  "nbformat": 4,
  "nbformat_minor": 0,
  "metadata": {
    "colab": {
      "name": "demo_language_modeling.ipynb",
      "provenance": [],
      "collapsed_sections": []
    },
    "kernelspec": {
      "name": "python3",
      "display_name": "Python 3"
    },
    "accelerator": "GPU"
  },
  "cells": [
    {
      "cell_type": "markdown",
      "metadata": {
        "id": "YiYcLrs8L14V",
        "colab_type": "text"
      },
      "source": [
        "# **1. Prepare the environment**"
      ]
    },
    {
      "cell_type": "markdown",
      "metadata": {
        "id": "VTpwotDPL6MZ",
        "colab_type": "text"
      },
      "source": [
        "## **Fetch the \"Label-Bot\" repo and modify it so that it can be used in colab**"
      ]
    },
    {
      "cell_type": "code",
      "metadata": {
        "id": "sz_WznR5Gr2K",
        "colab_type": "code",
        "colab": {}
      },
      "source": [
        "!git clone https://github.com/GiorgosKarantonis/Label-Bot\n",
        "\n",
        "!mv Label-Bot Label_Bot\n",
        "!touch Label_Bot/__init__.py"
      ],
      "execution_count": null,
      "outputs": []
    },
    {
      "cell_type": "markdown",
      "metadata": {
        "id": "IE1VY92PL8gO",
        "colab_type": "text"
      },
      "source": [
        "## **Mount google drive in order to be able to access the preprocessed dataset**"
      ]
    },
    {
      "cell_type": "code",
      "metadata": {
        "id": "2rnMDJ51GtIE",
        "colab_type": "code",
        "colab": {}
      },
      "source": [
        "from google.colab import drive\n",
        "drive.mount('/content/drive')"
      ],
      "execution_count": null,
      "outputs": []
    },
    {
      "cell_type": "markdown",
      "metadata": {
        "id": "7GOr9rT-L_DH",
        "colab_type": "text"
      },
      "source": [
        "# **2. Prepare the Label Bot**"
      ]
    },
    {
      "cell_type": "markdown",
      "metadata": {
        "id": "COD0sWtmMChi",
        "colab_type": "text"
      },
      "source": [
        "## **Import all the required libraries**"
      ]
    },
    {
      "cell_type": "code",
      "metadata": {
        "id": "YSptTe0uG1gv",
        "colab_type": "code",
        "colab": {}
      },
      "source": [
        "import time\n",
        "\n",
        "import numpy as np\n",
        "import pandas as pd\n",
        "\n",
        "import tensorflow as tf\n",
        "\n",
        "try:\n",
        "    from transformers import BertTokenizer\n",
        "    from transformers import TFBertModel, TFDistilBertModel\n",
        "    from transformers import TFBertForSequenceClassification\n",
        "    from transformers import T5Tokenizer, TFT5ForConditionalGeneration\n",
        "    from transformers import pipeline\n",
        "except:\n",
        "    !pip install transformers==3.0.0\n",
        "    from transformers import BertTokenizer, DistilBertTokenizer, DistilBertTokenizerFast\n",
        "    from transformers import TFBertModel, TFDistilBertModel\n",
        "    from transformers import TFBertForSequenceClassification\n",
        "    from transformers import T5Tokenizer, TFT5ForConditionalGeneration\n",
        "    from transformers import pipeline\n",
        "\n",
        "import Label_Bot.preprocessing as pp\n",
        "import Label_Bot.language_modeling as lm"
      ],
      "execution_count": null,
      "outputs": []
    },
    {
      "cell_type": "markdown",
      "metadata": {
        "id": "ZHPcPmyVMH5C",
        "colab_type": "text"
      },
      "source": [
        "## **Define the hyperparameters**"
      ]
    },
    {
      "cell_type": "code",
      "metadata": {
        "id": "LJ4h7-f5Heoc",
        "colab_type": "code",
        "colab": {}
      },
      "source": [
        "MEMORY_LIMIT = 100"
      ],
      "execution_count": 4,
      "outputs": []
    },
    {
      "cell_type": "markdown",
      "metadata": {
        "id": "JQhjbp0hMNF6",
        "colab_type": "text"
      },
      "source": [
        "## **Load the dataset**"
      ]
    },
    {
      "cell_type": "code",
      "metadata": {
        "id": "WgzA8lZ-GZ2h",
        "colab_type": "code",
        "colab": {}
      },
      "source": [
        "df = pp.load_data(memory_limit=MEMORY_LIMIT, file='./drive/My Drive/Label Bot/data/github.pkl')"
      ],
      "execution_count": 7,
      "outputs": []
    },
    {
      "cell_type": "code",
      "metadata": {
        "id": "H1eOW9g2Ggpd",
        "colab_type": "code",
        "colab": {
          "base_uri": "https://localhost:8080/",
          "height": 297
        },
        "outputId": "dfdf5b16-7b98-45ef-b195-c437db217d42"
      },
      "source": [
        "df.describe()"
      ],
      "execution_count": 8,
      "outputs": [
        {
          "output_type": "execute_result",
          "data": {
            "text/html": [
              "<div>\n",
              "<style scoped>\n",
              "    .dataframe tbody tr th:only-of-type {\n",
              "        vertical-align: middle;\n",
              "    }\n",
              "\n",
              "    .dataframe tbody tr th {\n",
              "        vertical-align: top;\n",
              "    }\n",
              "\n",
              "    .dataframe thead th {\n",
              "        text-align: right;\n",
              "    }\n",
              "</style>\n",
              "<table border=\"1\" class=\"dataframe\">\n",
              "  <thead>\n",
              "    <tr style=\"text-align: right;\">\n",
              "      <th></th>\n",
              "      <th>label_bug</th>\n",
              "      <th>label_enhancement</th>\n",
              "      <th>label_question</th>\n",
              "      <th>label_undefined</th>\n",
              "    </tr>\n",
              "  </thead>\n",
              "  <tbody>\n",
              "    <tr>\n",
              "      <th>count</th>\n",
              "      <td>100.000000</td>\n",
              "      <td>100.000000</td>\n",
              "      <td>100.000000</td>\n",
              "      <td>100.000000</td>\n",
              "    </tr>\n",
              "    <tr>\n",
              "      <th>mean</th>\n",
              "      <td>0.650000</td>\n",
              "      <td>0.200000</td>\n",
              "      <td>0.090000</td>\n",
              "      <td>0.060000</td>\n",
              "    </tr>\n",
              "    <tr>\n",
              "      <th>std</th>\n",
              "      <td>0.479372</td>\n",
              "      <td>0.402015</td>\n",
              "      <td>0.287623</td>\n",
              "      <td>0.238683</td>\n",
              "    </tr>\n",
              "    <tr>\n",
              "      <th>min</th>\n",
              "      <td>0.000000</td>\n",
              "      <td>0.000000</td>\n",
              "      <td>0.000000</td>\n",
              "      <td>0.000000</td>\n",
              "    </tr>\n",
              "    <tr>\n",
              "      <th>25%</th>\n",
              "      <td>0.000000</td>\n",
              "      <td>0.000000</td>\n",
              "      <td>0.000000</td>\n",
              "      <td>0.000000</td>\n",
              "    </tr>\n",
              "    <tr>\n",
              "      <th>50%</th>\n",
              "      <td>1.000000</td>\n",
              "      <td>0.000000</td>\n",
              "      <td>0.000000</td>\n",
              "      <td>0.000000</td>\n",
              "    </tr>\n",
              "    <tr>\n",
              "      <th>75%</th>\n",
              "      <td>1.000000</td>\n",
              "      <td>0.000000</td>\n",
              "      <td>0.000000</td>\n",
              "      <td>0.000000</td>\n",
              "    </tr>\n",
              "    <tr>\n",
              "      <th>max</th>\n",
              "      <td>1.000000</td>\n",
              "      <td>1.000000</td>\n",
              "      <td>1.000000</td>\n",
              "      <td>1.000000</td>\n",
              "    </tr>\n",
              "  </tbody>\n",
              "</table>\n",
              "</div>"
            ],
            "text/plain": [
              "        label_bug  label_enhancement  label_question  label_undefined\n",
              "count  100.000000         100.000000      100.000000       100.000000\n",
              "mean     0.650000           0.200000        0.090000         0.060000\n",
              "std      0.479372           0.402015        0.287623         0.238683\n",
              "min      0.000000           0.000000        0.000000         0.000000\n",
              "25%      0.000000           0.000000        0.000000         0.000000\n",
              "50%      1.000000           0.000000        0.000000         0.000000\n",
              "75%      1.000000           0.000000        0.000000         0.000000\n",
              "max      1.000000           1.000000        1.000000         1.000000"
            ]
          },
          "metadata": {
            "tags": []
          },
          "execution_count": 8
        }
      ]
    },
    {
      "cell_type": "code",
      "metadata": {
        "id": "yA6wW5UmGiY6",
        "colab_type": "code",
        "colab": {
          "base_uri": "https://localhost:8080/",
          "height": 343
        },
        "outputId": "ddb480f8-f9b7-4b50-b4a6-fdda44a7a072"
      },
      "source": [
        "df.head()"
      ],
      "execution_count": 9,
      "outputs": [
        {
          "output_type": "execute_result",
          "data": {
            "text/html": [
              "<div>\n",
              "<style scoped>\n",
              "    .dataframe tbody tr th:only-of-type {\n",
              "        vertical-align: middle;\n",
              "    }\n",
              "\n",
              "    .dataframe tbody tr th {\n",
              "        vertical-align: top;\n",
              "    }\n",
              "\n",
              "    .dataframe thead th {\n",
              "        text-align: right;\n",
              "    }\n",
              "</style>\n",
              "<table border=\"1\" class=\"dataframe\">\n",
              "  <thead>\n",
              "    <tr style=\"text-align: right;\">\n",
              "      <th></th>\n",
              "      <th>url</th>\n",
              "      <th>repo</th>\n",
              "      <th>title</th>\n",
              "      <th>body</th>\n",
              "      <th>labels</th>\n",
              "      <th>user</th>\n",
              "      <th>repo_name</th>\n",
              "      <th>issue_number</th>\n",
              "      <th>label_bug</th>\n",
              "      <th>label_enhancement</th>\n",
              "      <th>label_question</th>\n",
              "      <th>label_undefined</th>\n",
              "    </tr>\n",
              "  </thead>\n",
              "  <tbody>\n",
              "    <tr>\n",
              "      <th>0</th>\n",
              "      <td>https://github.com/F5Networks/f5-openstack-lba...</td>\n",
              "      <td>F5Networks/f5-openstack-lbaasv2-driver</td>\n",
              "      <td>test_l7policies_and_rules.py:testl7basicupdate...</td>\n",
              "      <td>title: test_l7policies_and_rules.py:testl7basi...</td>\n",
              "      <td>[undefined]</td>\n",
              "      <td>F5Networks</td>\n",
              "      <td>f5-openstack-lbaasv2-driver</td>\n",
              "      <td>835</td>\n",
              "      <td>0.0</td>\n",
              "      <td>0.0</td>\n",
              "      <td>0.0</td>\n",
              "      <td>1.0</td>\n",
              "    </tr>\n",
              "    <tr>\n",
              "      <th>1</th>\n",
              "      <td>https://github.com/aspnet/Mvc/issues/6339</td>\n",
              "      <td>aspnet/Mvc</td>\n",
              "      <td>testing all controllers dependency injection</td>\n",
              "      <td>i'm writing integration tests for my applicati...</td>\n",
              "      <td>[question]</td>\n",
              "      <td>aspnet</td>\n",
              "      <td>Mvc</td>\n",
              "      <td>6339</td>\n",
              "      <td>0.0</td>\n",
              "      <td>0.0</td>\n",
              "      <td>1.0</td>\n",
              "      <td>0.0</td>\n",
              "    </tr>\n",
              "    <tr>\n",
              "      <th>2</th>\n",
              "      <td>https://github.com/ionic-team/ionic-cli/issues...</td>\n",
              "      <td>ionic-team/ionic-cli</td>\n",
              "      <td>testing ionic4 - serve shows two displays</td>\n",
              "      <td>description:   ionic serve shows two displa...</td>\n",
              "      <td>[bug]</td>\n",
              "      <td>ionic-team</td>\n",
              "      <td>ionic-cli</td>\n",
              "      <td>3044</td>\n",
              "      <td>1.0</td>\n",
              "      <td>0.0</td>\n",
              "      <td>0.0</td>\n",
              "      <td>0.0</td>\n",
              "    </tr>\n",
              "    <tr>\n",
              "      <th>3</th>\n",
              "      <td>https://github.com/thefarwind/chip-8/issues/21</td>\n",
              "      <td>thefarwind/chip-8</td>\n",
              "      <td>tests are all broken</td>\n",
              "      <td>when switching chip8 such that the audio, disp...</td>\n",
              "      <td>[bug]</td>\n",
              "      <td>thefarwind</td>\n",
              "      <td>chip-8</td>\n",
              "      <td>21</td>\n",
              "      <td>1.0</td>\n",
              "      <td>0.0</td>\n",
              "      <td>0.0</td>\n",
              "      <td>0.0</td>\n",
              "    </tr>\n",
              "    <tr>\n",
              "      <th>4</th>\n",
              "      <td>https://github.com/n-sokolov/CoffeeShop/issues/1</td>\n",
              "      <td>n-sokolov/CoffeeShop</td>\n",
              "      <td>tests for paging</td>\n",
              "      <td>_  context  _: paging mechanism must be tested...</td>\n",
              "      <td>[enhancement]</td>\n",
              "      <td>n-sokolov</td>\n",
              "      <td>CoffeeShop</td>\n",
              "      <td>1</td>\n",
              "      <td>0.0</td>\n",
              "      <td>1.0</td>\n",
              "      <td>0.0</td>\n",
              "      <td>0.0</td>\n",
              "    </tr>\n",
              "  </tbody>\n",
              "</table>\n",
              "</div>"
            ],
            "text/plain": [
              "                                                 url  ... label_undefined\n",
              "0  https://github.com/F5Networks/f5-openstack-lba...  ...             1.0\n",
              "1          https://github.com/aspnet/Mvc/issues/6339  ...             0.0\n",
              "2  https://github.com/ionic-team/ionic-cli/issues...  ...             0.0\n",
              "3     https://github.com/thefarwind/chip-8/issues/21  ...             0.0\n",
              "4   https://github.com/n-sokolov/CoffeeShop/issues/1  ...             0.0\n",
              "\n",
              "[5 rows x 12 columns]"
            ]
          },
          "metadata": {
            "tags": []
          },
          "execution_count": 9
        }
      ]
    },
    {
      "cell_type": "code",
      "metadata": {
        "id": "O_yr5p1SGkLk",
        "colab_type": "code",
        "colab": {}
      },
      "source": [
        "labels = np.transpose([df[c] for c in df.columns if c.startswith('label_')])\n",
        "\n",
        "title = df['title'].values.tolist()\n",
        "body = df['body'].values.tolist()"
      ],
      "execution_count": 10,
      "outputs": []
    },
    {
      "cell_type": "markdown",
      "metadata": {
        "id": "sepZxZwGMRv0",
        "colab_type": "text"
      },
      "source": [
        "# **3. Summarize**"
      ]
    },
    {
      "cell_type": "code",
      "metadata": {
        "id": "fMieE8uWGltT",
        "colab_type": "code",
        "colab": {}
      },
      "source": [
        "summarizer = pipeline(\"summarization\")"
      ],
      "execution_count": null,
      "outputs": []
    },
    {
      "cell_type": "code",
      "metadata": {
        "id": "FO9s0OIoGnGY",
        "colab_type": "code",
        "colab": {}
      },
      "source": [
        "summary = summarizer(body[0])"
      ],
      "execution_count": null,
      "outputs": []
    },
    {
      "cell_type": "code",
      "metadata": {
        "id": "5YQMI6BbIKXr",
        "colab_type": "code",
        "colab": {
          "base_uri": "https://localhost:8080/",
          "height": 259
        },
        "outputId": "75ae3d4e-91ab-4a8f-92e0-b3a54461516e"
      },
      "source": [
        "body[0]"
      ],
      "execution_count": 14,
      "outputs": [
        {
          "output_type": "execute_result",
          "data": {
            "application/vnd.google.colaboratory.intrinsic": {
              "type": "string"
            },
            "text/plain": [
              "'title: test_l7policies_and_rules.py:testl7basicupdate.test_policy_deployment_operand_match fails in setup error was encountered instead of active/onine   attachments:    details:         suggested issue type test bug        traceback       0 traceback  most recent call last :   1   file \\\\ /home-local/jenkins/workspace/openstack/driver/newton/11.5.4-undercloud-vxlan/f5lbaasdriver/test/tempest/tests/scenario/test_l7policies_and_rules.py\\\\ , line 305, in setup   2     super testl7basicupdate, self .setup     3   file \\\\ /home-local/jenkins/workspace/openstack/driver/newton/11.5.4-undercloud-vxlan/f5lbaasdriver/test/tempest/tests/scenario/test_l7policies_and_rules.py\\\\ , line 26, in setup   4     super testl7basic, self .setup     5   file \\\\ /home-local/jenkins/workspace/openstack/driver/newton/11.5.4-undercloud-vxlan/f5lbaasdriver/test/tempest/tests/scenario/f5_base.py\\\\ , line 33, in setup   6     self._create_load_balancer     7   file \\\\ /home-local/jenkins/workspace/openstack/driver/newton/11.5.4-undercloud-vxlan/f5lbaasdriver/test/tempest/tests/scenario/f5_base.py\\\\ , line 71, in _create_load_balancer   8     self._wait_for_load_balancer_status load_balancer_id    9   file \\\\ /usr/local/lib/python2.7/dist-packages/neutron_lbaas/tests/tempest/v2/scenario/base.py\\\\ , line 467, in _wait_for_load_balancer_status  10     operating_status=operating_status    11 exception: wait for load balancer for load balancer: 2378365e-939d-4e64-b2de-5e61a02038aa ran for 600 seconds and an error was encountered with provisioning status: active and operating status: onli    ne           impacted tests    openstack_driver_newton_11.5.4-undercloud-vxlan.118.consoletext      issue type: failures      testl7basicupdate.test_policy_deployment_operand_match       md5sum:18236c64a6a43ae7e0707f69feebc3a3        agent version newton       operating system nightly       openstack release newton       bug severity  low       description <describe the bug in detail, steps taken prior to encountering the issue, yand a short explanation of you have deployed openstack and f5 agent>       deployment underclou vxlan'"
            ]
          },
          "metadata": {
            "tags": []
          },
          "execution_count": 14
        }
      ]
    },
    {
      "cell_type": "code",
      "metadata": {
        "id": "zBWmdAG3GpHP",
        "colab_type": "code",
        "colab": {
          "base_uri": "https://localhost:8080/",
          "height": 54
        },
        "outputId": "a802fddc-9460-435c-c9a5-099d393a0475"
      },
      "source": [
        "# 3 titles need summarization\n",
        "# 973902 bodies need summarization\n",
        "# each summary takes ~20sec\n",
        "\n",
        "summary[0]['summary_text']"
      ],
      "execution_count": 17,
      "outputs": [
        {
          "output_type": "execute_result",
          "data": {
            "application/vnd.google.colaboratory.intrinsic": {
              "type": "string"
            },
            "text/plain": [
              "' A bug was encountered with provisioning status: active and operating status: onli . It was encountered instead of active/onine . The bug is low-level but low-several, with a low-calient low bug severity . The issue was reported to openstack_driver_newton_11.5.4-undercloud-vxlan .'"
            ]
          },
          "metadata": {
            "tags": []
          },
          "execution_count": 17
        }
      ]
    },
    {
      "cell_type": "markdown",
      "metadata": {
        "id": "L9dz3c1rMVM4",
        "colab_type": "text"
      },
      "source": [
        "# **3. Get the contextual embeddings**"
      ]
    },
    {
      "cell_type": "code",
      "metadata": {
        "id": "p0jkq4GGIjZ3",
        "colab_type": "code",
        "colab": {}
      },
      "source": [
        "embeddings_title = lm.get_embeddings(df['title'].values.tolist())\n",
        "embeddings_body = lm.get_embeddings(df['body'].values.tolist())"
      ],
      "execution_count": 18,
      "outputs": []
    },
    {
      "cell_type": "code",
      "metadata": {
        "id": "78jtfb2oMaRI",
        "colab_type": "code",
        "colab": {
          "base_uri": "https://localhost:8080/",
          "height": 34
        },
        "outputId": "5be5f7e1-ad84-4876-ee0e-ad0fc7c95b15"
      },
      "source": [
        "embeddings_title.shape"
      ],
      "execution_count": 25,
      "outputs": [
        {
          "output_type": "execute_result",
          "data": {
            "text/plain": [
              "TensorShape([100, 47, 768])"
            ]
          },
          "metadata": {
            "tags": []
          },
          "execution_count": 25
        }
      ]
    },
    {
      "cell_type": "code",
      "metadata": {
        "id": "2T-uPqJYIrKS",
        "colab_type": "code",
        "colab": {
          "base_uri": "https://localhost:8080/",
          "height": 34
        },
        "outputId": "8e906c26-d872-4b0c-91e0-fa4f05d18643"
      },
      "source": [
        "embeddings_body.shape"
      ],
      "execution_count": 21,
      "outputs": [
        {
          "output_type": "execute_result",
          "data": {
            "text/plain": [
              "TensorShape([100, 512, 768])"
            ]
          },
          "metadata": {
            "tags": []
          },
          "execution_count": 21
        }
      ]
    }
  ]
}