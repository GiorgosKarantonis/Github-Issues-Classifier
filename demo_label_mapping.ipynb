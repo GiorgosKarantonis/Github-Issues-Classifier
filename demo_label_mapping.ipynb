{
  "nbformat": 4,
  "nbformat_minor": 0,
  "metadata": {
    "colab": {
      "name": "demo_label_mapping.ipynb",
      "provenance": [],
      "collapsed_sections": []
    },
    "kernelspec": {
      "name": "python3",
      "display_name": "Python 3"
    },
    "accelerator": "GPU"
  },
  "cells": [
    {
      "cell_type": "markdown",
      "metadata": {
        "id": "0FcSAmw4-4ZL",
        "colab_type": "text"
      },
      "source": [
        "# **1. Prepare the environment**"
      ]
    },
    {
      "cell_type": "markdown",
      "metadata": {
        "id": "VPyBsXRM---j",
        "colab_type": "text"
      },
      "source": [
        "## **Fetch the \"Label-Bot\" repo and modify it so that it can be used in colab**"
      ]
    },
    {
      "cell_type": "code",
      "metadata": {
        "id": "iC0yuU3Y-08P",
        "colab_type": "code",
        "colab": {}
      },
      "source": [
        "!git clone https://github.com/GiorgosKarantonis/Label-Bot\n",
        "\n",
        "!mv Label-Bot Label_Bot\n",
        "!touch Label_Bot/__init__.py"
      ],
      "execution_count": null,
      "outputs": []
    },
    {
      "cell_type": "markdown",
      "metadata": {
        "id": "Na6mbeCB_IFQ",
        "colab_type": "text"
      },
      "source": [
        "\n",
        "## **Mount google drive in order to be able to access the preprocessed dataset**"
      ]
    },
    {
      "cell_type": "code",
      "metadata": {
        "id": "T79eu96__HyE",
        "colab_type": "code",
        "colab": {}
      },
      "source": [
        "from google.colab import drive\n",
        "drive.mount('/content/drive')"
      ],
      "execution_count": null,
      "outputs": []
    },
    {
      "cell_type": "markdown",
      "metadata": {
        "id": "aqUbxDn-_M5L",
        "colab_type": "text"
      },
      "source": [
        "# **2. Prepare the Label Bot**"
      ]
    },
    {
      "cell_type": "markdown",
      "metadata": {
        "id": "VjtqD7qr_dnU",
        "colab_type": "text"
      },
      "source": [
        "## **Import all the required libraries**"
      ]
    },
    {
      "cell_type": "code",
      "metadata": {
        "id": "D80d9iCv_OH6",
        "colab_type": "code",
        "colab": {}
      },
      "source": [
        "import time\n",
        "\n",
        "import numpy as np\n",
        "import pandas as pd\n",
        "\n",
        "import tensorflow as tf\n",
        "\n",
        "try:\n",
        "    from transformers import BertTokenizer, TFBertForSequenceClassification\n",
        "except:\n",
        "    !pip install transformers==3.0.0\n",
        "    from transformers import BertTokenizer, TFBertForSequenceClassification\n",
        "\n",
        "import Label_Bot.preprocessing as pp"
      ],
      "execution_count": 1,
      "outputs": []
    },
    {
      "cell_type": "markdown",
      "metadata": {
        "id": "8Eed7WSKCOjr",
        "colab_type": "text"
      },
      "source": [
        "## **Define the hyperparameters**"
      ]
    },
    {
      "cell_type": "code",
      "metadata": {
        "id": "OLq6v5Q5_lw8",
        "colab_type": "code",
        "colab": {}
      },
      "source": [
        "MEMORY_LIMIT = 100\n",
        "\n",
        "LABELS = [\n",
        "    'bug', \n",
        "    'question', \n",
        "    'enhancement'\n",
        "]"
      ],
      "execution_count": 2,
      "outputs": []
    },
    {
      "cell_type": "markdown",
      "metadata": {
        "id": "O-YFRhPtCRre",
        "colab_type": "text"
      },
      "source": [
        "## **Load the dataset**"
      ]
    },
    {
      "cell_type": "code",
      "metadata": {
        "id": "x9MZcrC4B6L3",
        "colab_type": "code",
        "colab": {}
      },
      "source": [
        "df = pp.load_data(memory_limit=MEMORY_LIMIT, file='./drive/My Drive/Label Bot/data/github_no_merging.pkl')\n",
        "\n",
        "for c in df.columns:\n",
        "    if c.startswith('label_'):\n",
        "        df = df.drop(c, axis=1)"
      ],
      "execution_count": 3,
      "outputs": []
    },
    {
      "cell_type": "code",
      "metadata": {
        "id": "Ms2RlI3fCJkf",
        "colab_type": "code",
        "colab": {
          "base_uri": "https://localhost:8080/",
          "height": 343
        },
        "outputId": "eafb1937-0110-428a-d1b7-640486d3b166"
      },
      "source": [
        "df.head()"
      ],
      "execution_count": 6,
      "outputs": [
        {
          "output_type": "execute_result",
          "data": {
            "text/html": [
              "<div>\n",
              "<style scoped>\n",
              "    .dataframe tbody tr th:only-of-type {\n",
              "        vertical-align: middle;\n",
              "    }\n",
              "\n",
              "    .dataframe tbody tr th {\n",
              "        vertical-align: top;\n",
              "    }\n",
              "\n",
              "    .dataframe thead th {\n",
              "        text-align: right;\n",
              "    }\n",
              "</style>\n",
              "<table border=\"1\" class=\"dataframe\">\n",
              "  <thead>\n",
              "    <tr style=\"text-align: right;\">\n",
              "      <th></th>\n",
              "      <th>url</th>\n",
              "      <th>repo</th>\n",
              "      <th>title</th>\n",
              "      <th>body</th>\n",
              "      <th>labels</th>\n",
              "      <th>user</th>\n",
              "      <th>repo_name</th>\n",
              "      <th>issue_number</th>\n",
              "    </tr>\n",
              "  </thead>\n",
              "  <tbody>\n",
              "    <tr>\n",
              "      <th>0</th>\n",
              "      <td>https://github.com/F5Networks/f5-openstack-lba...</td>\n",
              "      <td>F5Networks/f5-openstack-lbaasv2-driver</td>\n",
              "      <td>test_l7policies_and_rules.py:testl7basicupdate...</td>\n",
              "      <td>title: test_l7policies_and_rules.py:testl7basi...</td>\n",
              "      <td>[s3, p3, test-bug]</td>\n",
              "      <td>F5Networks</td>\n",
              "      <td>f5-openstack-lbaasv2-driver</td>\n",
              "      <td>835</td>\n",
              "    </tr>\n",
              "    <tr>\n",
              "      <th>1</th>\n",
              "      <td>https://github.com/aspnet/Mvc/issues/6339</td>\n",
              "      <td>aspnet/Mvc</td>\n",
              "      <td>testing all controllers dependency injection</td>\n",
              "      <td>i'm writing integration tests for my applicati...</td>\n",
              "      <td>[question]</td>\n",
              "      <td>aspnet</td>\n",
              "      <td>Mvc</td>\n",
              "      <td>6339</td>\n",
              "    </tr>\n",
              "    <tr>\n",
              "      <th>2</th>\n",
              "      <td>https://github.com/ionic-team/ionic-cli/issues...</td>\n",
              "      <td>ionic-team/ionic-cli</td>\n",
              "      <td>testing ionic4 - serve shows two displays</td>\n",
              "      <td>\\r   description:  \\r ionic serve shows two di...</td>\n",
              "      <td>[bug]</td>\n",
              "      <td>ionic-team</td>\n",
              "      <td>ionic-cli</td>\n",
              "      <td>3044</td>\n",
              "    </tr>\n",
              "    <tr>\n",
              "      <th>3</th>\n",
              "      <td>https://github.com/thefarwind/chip-8/issues/21</td>\n",
              "      <td>thefarwind/chip-8</td>\n",
              "      <td>tests are all broken</td>\n",
              "      <td>when switching chip8 such that the audio, disp...</td>\n",
              "      <td>[bug, tests]</td>\n",
              "      <td>thefarwind</td>\n",
              "      <td>chip-8</td>\n",
              "      <td>21</td>\n",
              "    </tr>\n",
              "    <tr>\n",
              "      <th>4</th>\n",
              "      <td>https://github.com/n-sokolov/CoffeeShop/issues/1</td>\n",
              "      <td>n-sokolov/CoffeeShop</td>\n",
              "      <td>tests for paging</td>\n",
              "      <td>_  context  _: paging mechanism must be tested...</td>\n",
              "      <td>[enhancement]</td>\n",
              "      <td>n-sokolov</td>\n",
              "      <td>CoffeeShop</td>\n",
              "      <td>1</td>\n",
              "    </tr>\n",
              "  </tbody>\n",
              "</table>\n",
              "</div>"
            ],
            "text/plain": [
              "                                                 url  ... issue_number\n",
              "0  https://github.com/F5Networks/f5-openstack-lba...  ...          835\n",
              "1          https://github.com/aspnet/Mvc/issues/6339  ...         6339\n",
              "2  https://github.com/ionic-team/ionic-cli/issues...  ...         3044\n",
              "3     https://github.com/thefarwind/chip-8/issues/21  ...           21\n",
              "4   https://github.com/n-sokolov/CoffeeShop/issues/1  ...            1\n",
              "\n",
              "[5 rows x 8 columns]"
            ]
          },
          "metadata": {
            "tags": []
          },
          "execution_count": 6
        }
      ]
    },
    {
      "cell_type": "markdown",
      "metadata": {
        "id": "lKOEN4vICarN",
        "colab_type": "text"
      },
      "source": [
        "# **3. Disambiguate the Labels**"
      ]
    },
    {
      "cell_type": "code",
      "metadata": {
        "id": "zXx1SzVOBcnc",
        "colab_type": "code",
        "colab": {}
      },
      "source": [
        "unique_labels = pp.get_unique_values(df, 'labels').keys().values\n",
        "\n",
        "paraphrase_candidates = pp.make_combinations(LABELS, unique_labels)\n",
        "paraphrase_likelihood = pp.check_paraphrase(paraphrase_candidates)\n",
        "\n",
        "label_mapping = {}\n",
        "for i, pair in enumerate(paraphrase_candidates):\n",
        "    if paraphrase_likelihood[i] > .5:\n",
        "        target_l, real_l = pair[0], pair[1]\n",
        "        try:\n",
        "            label_mapping[real_l].append((target_l, paraphrase_likelihood[i]))\n",
        "        except:\n",
        "            label_mapping[real_l] = []\n",
        "            label_mapping[real_l].append((target_l, paraphrase_likelihood[i]))"
      ],
      "execution_count": null,
      "outputs": []
    },
    {
      "cell_type": "code",
      "metadata": {
        "id": "swbMpNt3Bdq2",
        "colab_type": "code",
        "colab": {
          "base_uri": "https://localhost:8080/",
          "height": 238
        },
        "outputId": "af3ea60b-c46b-4cc4-ddc8-944a08b89a7c"
      },
      "source": [
        "pd.Series(label_mapping)"
      ],
      "execution_count": 8,
      "outputs": [
        {
          "output_type": "execute_result",
          "data": {
            "text/plain": [
              "bug                         [(bug, 0.9162983894348145)]\n",
              "kind/bug                    [(bug, 0.8486595153808594)]\n",
              "extension-bug               [(bug, 0.6228393912315369)]\n",
              "type-bug                    [(bug, 0.7991788387298584)]\n",
              "type: bug                   [(bug, 0.8241775035858154)]\n",
              "minor bug                   [(bug, 0.5306734442710876)]\n",
              "bug report                  [(bug, 0.6632622480392456)]\n",
              "type:visual bug             [(bug, 0.7715801000595093)]\n",
              "question               [(question, 0.9274781942367554)]\n",
              "enhancement         [(enhancement, 0.9370462894439697)]\n",
              "kind/enhancement    [(enhancement, 0.9053848385810852)]\n",
              "doc-enhancement     [(enhancement, 0.8313373923301697)]\n",
              "dtype: object"
            ]
          },
          "metadata": {
            "tags": []
          },
          "execution_count": 8
        }
      ]
    },
    {
      "cell_type": "code",
      "metadata": {
        "id": "XMNQeBzcBkhd",
        "colab_type": "code",
        "colab": {}
      },
      "source": [
        "label_mapping = pp.disambiguate_labels(label_mapping)"
      ],
      "execution_count": null,
      "outputs": []
    },
    {
      "cell_type": "code",
      "metadata": {
        "id": "hQENayAwBrag",
        "colab_type": "code",
        "colab": {
          "base_uri": "https://localhost:8080/",
          "height": 238
        },
        "outputId": "c5e43d8e-3577-436f-9dec-9260ee625006"
      },
      "source": [
        "pd.Series(label_mapping)"
      ],
      "execution_count": 10,
      "outputs": [
        {
          "output_type": "execute_result",
          "data": {
            "text/plain": [
              "bug                         bug\n",
              "kind/bug                    bug\n",
              "extension-bug               bug\n",
              "type-bug                    bug\n",
              "type: bug                   bug\n",
              "minor bug                   bug\n",
              "bug report                  bug\n",
              "type:visual bug             bug\n",
              "question               question\n",
              "enhancement         enhancement\n",
              "kind/enhancement    enhancement\n",
              "doc-enhancement     enhancement\n",
              "dtype: object"
            ]
          },
          "metadata": {
            "tags": []
          },
          "execution_count": 10
        }
      ]
    },
    {
      "cell_type": "code",
      "metadata": {
        "id": "om-mulXgFAsF",
        "colab_type": "code",
        "colab": {
          "base_uri": "https://localhost:8080/",
          "height": 221
        },
        "outputId": "07c641ad-f064-47d0-82a1-5e739f322e6a"
      },
      "source": [
        "df['labels']"
      ],
      "execution_count": 11,
      "outputs": [
        {
          "output_type": "execute_result",
          "data": {
            "text/plain": [
              "0                 [s3, p3, test-bug]\n",
              "1                         [question]\n",
              "2                              [bug]\n",
              "3                       [bug, tests]\n",
              "4                      [enhancement]\n",
              "                   ...              \n",
              "95    [extension-bug, status: stale]\n",
              "96                       [bug, done]\n",
              "97                     [enhancement]\n",
              "98              [bug, pdf previewer]\n",
              "99                             [bug]\n",
              "Name: labels, Length: 100, dtype: object"
            ]
          },
          "metadata": {
            "tags": []
          },
          "execution_count": 11
        }
      ]
    },
    {
      "cell_type": "code",
      "metadata": {
        "id": "Zl5ahOL0BsiM",
        "colab_type": "code",
        "colab": {}
      },
      "source": [
        "df['labels'] = pp.map_labels(df['labels'], label_mapping)"
      ],
      "execution_count": null,
      "outputs": []
    },
    {
      "cell_type": "code",
      "metadata": {
        "id": "CtrgoyBPBv5s",
        "colab_type": "code",
        "colab": {
          "base_uri": "https://localhost:8080/",
          "height": 221
        },
        "outputId": "611b2964-1e9e-4bf5-8682-6d34576cda47"
      },
      "source": [
        "df['labels']"
      ],
      "execution_count": 13,
      "outputs": [
        {
          "output_type": "execute_result",
          "data": {
            "text/plain": [
              "0       [undefined]\n",
              "1        [question]\n",
              "2             [bug]\n",
              "3             [bug]\n",
              "4     [enhancement]\n",
              "          ...      \n",
              "95            [bug]\n",
              "96            [bug]\n",
              "97    [enhancement]\n",
              "98            [bug]\n",
              "99            [bug]\n",
              "Name: labels, Length: 100, dtype: object"
            ]
          },
          "metadata": {
            "tags": []
          },
          "execution_count": 13
        }
      ]
    },
    {
      "cell_type": "markdown",
      "metadata": {
        "id": "Nc3gJTnzLb8F",
        "colab_type": "text"
      },
      "source": [
        "# **4. Finish and vectorize the Labels**"
      ]
    },
    {
      "cell_type": "code",
      "metadata": {
        "id": "AVkHw0tXBxif",
        "colab_type": "code",
        "colab": {}
      },
      "source": [
        "if 'undefined' not in LABELS:\n",
        "    LABELS.append('undefined')\n",
        "\n",
        "labels_vectorized = pp.vectorize(df['labels'], LABELS, prefix='label')\n",
        "df = pp.transform(df, to_add=[labels_vectorized])"
      ],
      "execution_count": null,
      "outputs": []
    },
    {
      "cell_type": "code",
      "metadata": {
        "id": "7iejp9rNB07M",
        "colab_type": "code",
        "colab": {
          "base_uri": "https://localhost:8080/",
          "height": 419
        },
        "outputId": "5e96f59d-61ad-4b92-bb17-4c43d7b09333"
      },
      "source": [
        "labels_vectorized"
      ],
      "execution_count": 15,
      "outputs": [
        {
          "output_type": "execute_result",
          "data": {
            "text/html": [
              "<div>\n",
              "<style scoped>\n",
              "    .dataframe tbody tr th:only-of-type {\n",
              "        vertical-align: middle;\n",
              "    }\n",
              "\n",
              "    .dataframe tbody tr th {\n",
              "        vertical-align: top;\n",
              "    }\n",
              "\n",
              "    .dataframe thead th {\n",
              "        text-align: right;\n",
              "    }\n",
              "</style>\n",
              "<table border=\"1\" class=\"dataframe\">\n",
              "  <thead>\n",
              "    <tr style=\"text-align: right;\">\n",
              "      <th></th>\n",
              "      <th>label_bug</th>\n",
              "      <th>label_question</th>\n",
              "      <th>label_enhancement</th>\n",
              "      <th>label_undefined</th>\n",
              "    </tr>\n",
              "  </thead>\n",
              "  <tbody>\n",
              "    <tr>\n",
              "      <th>0</th>\n",
              "      <td>0.0</td>\n",
              "      <td>0.0</td>\n",
              "      <td>0.0</td>\n",
              "      <td>1.0</td>\n",
              "    </tr>\n",
              "    <tr>\n",
              "      <th>1</th>\n",
              "      <td>0.0</td>\n",
              "      <td>1.0</td>\n",
              "      <td>0.0</td>\n",
              "      <td>0.0</td>\n",
              "    </tr>\n",
              "    <tr>\n",
              "      <th>2</th>\n",
              "      <td>1.0</td>\n",
              "      <td>0.0</td>\n",
              "      <td>0.0</td>\n",
              "      <td>0.0</td>\n",
              "    </tr>\n",
              "    <tr>\n",
              "      <th>3</th>\n",
              "      <td>1.0</td>\n",
              "      <td>0.0</td>\n",
              "      <td>0.0</td>\n",
              "      <td>0.0</td>\n",
              "    </tr>\n",
              "    <tr>\n",
              "      <th>4</th>\n",
              "      <td>0.0</td>\n",
              "      <td>0.0</td>\n",
              "      <td>1.0</td>\n",
              "      <td>0.0</td>\n",
              "    </tr>\n",
              "    <tr>\n",
              "      <th>...</th>\n",
              "      <td>...</td>\n",
              "      <td>...</td>\n",
              "      <td>...</td>\n",
              "      <td>...</td>\n",
              "    </tr>\n",
              "    <tr>\n",
              "      <th>95</th>\n",
              "      <td>1.0</td>\n",
              "      <td>0.0</td>\n",
              "      <td>0.0</td>\n",
              "      <td>0.0</td>\n",
              "    </tr>\n",
              "    <tr>\n",
              "      <th>96</th>\n",
              "      <td>1.0</td>\n",
              "      <td>0.0</td>\n",
              "      <td>0.0</td>\n",
              "      <td>0.0</td>\n",
              "    </tr>\n",
              "    <tr>\n",
              "      <th>97</th>\n",
              "      <td>0.0</td>\n",
              "      <td>0.0</td>\n",
              "      <td>1.0</td>\n",
              "      <td>0.0</td>\n",
              "    </tr>\n",
              "    <tr>\n",
              "      <th>98</th>\n",
              "      <td>1.0</td>\n",
              "      <td>0.0</td>\n",
              "      <td>0.0</td>\n",
              "      <td>0.0</td>\n",
              "    </tr>\n",
              "    <tr>\n",
              "      <th>99</th>\n",
              "      <td>1.0</td>\n",
              "      <td>0.0</td>\n",
              "      <td>0.0</td>\n",
              "      <td>0.0</td>\n",
              "    </tr>\n",
              "  </tbody>\n",
              "</table>\n",
              "<p>100 rows × 4 columns</p>\n",
              "</div>"
            ],
            "text/plain": [
              "    label_bug  label_question  label_enhancement  label_undefined\n",
              "0         0.0             0.0                0.0              1.0\n",
              "1         0.0             1.0                0.0              0.0\n",
              "2         1.0             0.0                0.0              0.0\n",
              "3         1.0             0.0                0.0              0.0\n",
              "4         0.0             0.0                1.0              0.0\n",
              "..        ...             ...                ...              ...\n",
              "95        1.0             0.0                0.0              0.0\n",
              "96        1.0             0.0                0.0              0.0\n",
              "97        0.0             0.0                1.0              0.0\n",
              "98        1.0             0.0                0.0              0.0\n",
              "99        1.0             0.0                0.0              0.0\n",
              "\n",
              "[100 rows x 4 columns]"
            ]
          },
          "metadata": {
            "tags": []
          },
          "execution_count": 15
        }
      ]
    }
  ]
}