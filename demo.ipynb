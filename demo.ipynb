{
  "nbformat": 4,
  "nbformat_minor": 0,
  "metadata": {
    "colab": {
      "name": "Label Bot.ipynb",
      "provenance": [],
      "collapsed_sections": []
    },
    "kernelspec": {
      "name": "python3",
      "display_name": "Python 3"
    }
  },
  "cells": [
    {
      "cell_type": "markdown",
      "metadata": {
        "id": "A0oWJJZARFP8",
        "colab_type": "text"
      },
      "source": [
        "# **1. Prepare the environment**"
      ]
    },
    {
      "cell_type": "markdown",
      "metadata": {
        "id": "W8rrR4mFRWWX",
        "colab_type": "text"
      },
      "source": [
        "## **1.1 Fetch the \"Label-Bot\" repo and modify it so that it can be used in colab**"
      ]
    },
    {
      "cell_type": "code",
      "metadata": {
        "id": "2FufcnMRQ75Y",
        "colab_type": "code",
        "colab": {}
      },
      "source": [
        "!git clone https://github.com/GiorgosKarantonis/Label-Bot\n",
        "\n",
        "!mv Label-Bot Label_Bot\n",
        "!touch Label_Bot/__init__.py"
      ],
      "execution_count": null,
      "outputs": []
    },
    {
      "cell_type": "markdown",
      "metadata": {
        "id": "RBsroC2GRnLy",
        "colab_type": "text"
      },
      "source": [
        "## **1.2 Mount google drive in order to be able to access the preprocessed dataset**"
      ]
    },
    {
      "cell_type": "code",
      "metadata": {
        "id": "7zFENsN0ROgX",
        "colab_type": "code",
        "colab": {}
      },
      "source": [
        "from google.colab import drive\n",
        "drive.mount('/content/drive')"
      ],
      "execution_count": null,
      "outputs": []
    },
    {
      "cell_type": "markdown",
      "metadata": {
        "id": "RppdICi9R4Kx",
        "colab_type": "text"
      },
      "source": [
        "# **2. Prepare the Label Bot**"
      ]
    },
    {
      "cell_type": "markdown",
      "metadata": {
        "id": "HCai1FSsSFa6",
        "colab_type": "text"
      },
      "source": [
        "## **2.1 Import all the required libraries**"
      ]
    },
    {
      "cell_type": "code",
      "metadata": {
        "id": "pT91mvT8Xcei",
        "colab_type": "code",
        "colab": {}
      },
      "source": [
        "import pandas as pd\n",
        "\n",
        "try:\n",
        "    from transformers import BertTokenizer, TFBertForSequenceClassification\n",
        "except:\n",
        "    !pip install transformers==3.0.0\n",
        "    from transformers import BertTokenizer, TFBertForSequenceClassification\n",
        "\n",
        "import Label_Bot.preprocessing as pp"
      ],
      "execution_count": null,
      "outputs": []
    },
    {
      "cell_type": "code",
      "metadata": {
        "id": "iMf6JPvPRqCL",
        "colab_type": "code",
        "colab": {}
      },
      "source": [
        "MEMORY_LIMIT = 100\n",
        "\n",
        "# a dummy set of labels used for the proof of concept\n",
        "LABELS = [\n",
        "    'bug', \n",
        "    'enhancement', \n",
        "    'question'\n",
        "]"
      ],
      "execution_count": 14,
      "outputs": []
    },
    {
      "cell_type": "code",
      "metadata": {
        "id": "VcIU39EmOdvI",
        "colab_type": "code",
        "colab": {
          "base_uri": "https://localhost:8080/",
          "height": 343
        },
        "outputId": "1b743a29-4a0e-43c0-8b84-c5c487506a8a"
      },
      "source": [
        "df = pp.load_data(memory_limit=MEMORY_LIMIT, file='./drive/My Drive/Label Bot/data/github.pkl')\n",
        "\n",
        "for c in df.columns:\n",
        "    if c.startswith('label_'):\n",
        "        df = df.drop(c, axis=1)\n",
        "\n",
        "df.head()"
      ],
      "execution_count": 15,
      "outputs": [
        {
          "output_type": "execute_result",
          "data": {
            "text/html": [
              "<div>\n",
              "<style scoped>\n",
              "    .dataframe tbody tr th:only-of-type {\n",
              "        vertical-align: middle;\n",
              "    }\n",
              "\n",
              "    .dataframe tbody tr th {\n",
              "        vertical-align: top;\n",
              "    }\n",
              "\n",
              "    .dataframe thead th {\n",
              "        text-align: right;\n",
              "    }\n",
              "</style>\n",
              "<table border=\"1\" class=\"dataframe\">\n",
              "  <thead>\n",
              "    <tr style=\"text-align: right;\">\n",
              "      <th></th>\n",
              "      <th>url</th>\n",
              "      <th>repo</th>\n",
              "      <th>title</th>\n",
              "      <th>body</th>\n",
              "      <th>labels</th>\n",
              "      <th>user</th>\n",
              "      <th>repo_name</th>\n",
              "      <th>issue_number</th>\n",
              "    </tr>\n",
              "  </thead>\n",
              "  <tbody>\n",
              "    <tr>\n",
              "      <th>0</th>\n",
              "      <td>https://github.com/F5Networks/f5-openstack-lba...</td>\n",
              "      <td>F5Networks/f5-openstack-lbaasv2-driver</td>\n",
              "      <td>test_l7policies_and_rules.py:testl7basicupdate...</td>\n",
              "      <td>title: test_l7policies_and_rules.py:testl7basi...</td>\n",
              "      <td>[s3, p3, test-bug]</td>\n",
              "      <td>F5Networks</td>\n",
              "      <td>f5-openstack-lbaasv2-driver</td>\n",
              "      <td>835</td>\n",
              "    </tr>\n",
              "    <tr>\n",
              "      <th>1</th>\n",
              "      <td>https://github.com/aspnet/Mvc/issues/6339</td>\n",
              "      <td>aspnet/Mvc</td>\n",
              "      <td>testing all controllers dependency injection</td>\n",
              "      <td>i'm writing integration tests for my applicati...</td>\n",
              "      <td>[question]</td>\n",
              "      <td>aspnet</td>\n",
              "      <td>Mvc</td>\n",
              "      <td>6339</td>\n",
              "    </tr>\n",
              "    <tr>\n",
              "      <th>2</th>\n",
              "      <td>https://github.com/ionic-team/ionic-cli/issues...</td>\n",
              "      <td>ionic-team/ionic-cli</td>\n",
              "      <td>testing ionic4 - serve shows two displays</td>\n",
              "      <td>\\r   description:  \\r ionic serve shows two di...</td>\n",
              "      <td>[bug]</td>\n",
              "      <td>ionic-team</td>\n",
              "      <td>ionic-cli</td>\n",
              "      <td>3044</td>\n",
              "    </tr>\n",
              "    <tr>\n",
              "      <th>3</th>\n",
              "      <td>https://github.com/thefarwind/chip-8/issues/21</td>\n",
              "      <td>thefarwind/chip-8</td>\n",
              "      <td>tests are all broken</td>\n",
              "      <td>when switching chip8 such that the audio, disp...</td>\n",
              "      <td>[bug, tests]</td>\n",
              "      <td>thefarwind</td>\n",
              "      <td>chip-8</td>\n",
              "      <td>21</td>\n",
              "    </tr>\n",
              "    <tr>\n",
              "      <th>4</th>\n",
              "      <td>https://github.com/n-sokolov/CoffeeShop/issues/1</td>\n",
              "      <td>n-sokolov/CoffeeShop</td>\n",
              "      <td>tests for paging</td>\n",
              "      <td>_  context  _: paging mechanism must be tested...</td>\n",
              "      <td>[enhancement]</td>\n",
              "      <td>n-sokolov</td>\n",
              "      <td>CoffeeShop</td>\n",
              "      <td>1</td>\n",
              "    </tr>\n",
              "  </tbody>\n",
              "</table>\n",
              "</div>"
            ],
            "text/plain": [
              "                                                 url  ... issue_number\n",
              "0  https://github.com/F5Networks/f5-openstack-lba...  ...          835\n",
              "1          https://github.com/aspnet/Mvc/issues/6339  ...         6339\n",
              "2  https://github.com/ionic-team/ionic-cli/issues...  ...         3044\n",
              "3     https://github.com/thefarwind/chip-8/issues/21  ...           21\n",
              "4   https://github.com/n-sokolov/CoffeeShop/issues/1  ...            1\n",
              "\n",
              "[5 rows x 8 columns]"
            ]
          },
          "metadata": {
            "tags": []
          },
          "execution_count": 15
        }
      ]
    },
    {
      "cell_type": "code",
      "metadata": {
        "id": "z8SjyLtbRwSl",
        "colab_type": "code",
        "colab": {
          "base_uri": "https://localhost:8080/",
          "height": 343
        },
        "outputId": "601c396f-541e-42fc-fa58-4c2937b9c7fc"
      },
      "source": [
        "df = pp.clean_text_data(df, 'title', 'body')\n",
        "\n",
        "df.head()"
      ],
      "execution_count": 16,
      "outputs": [
        {
          "output_type": "execute_result",
          "data": {
            "text/html": [
              "<div>\n",
              "<style scoped>\n",
              "    .dataframe tbody tr th:only-of-type {\n",
              "        vertical-align: middle;\n",
              "    }\n",
              "\n",
              "    .dataframe tbody tr th {\n",
              "        vertical-align: top;\n",
              "    }\n",
              "\n",
              "    .dataframe thead th {\n",
              "        text-align: right;\n",
              "    }\n",
              "</style>\n",
              "<table border=\"1\" class=\"dataframe\">\n",
              "  <thead>\n",
              "    <tr style=\"text-align: right;\">\n",
              "      <th></th>\n",
              "      <th>url</th>\n",
              "      <th>repo</th>\n",
              "      <th>title</th>\n",
              "      <th>body</th>\n",
              "      <th>labels</th>\n",
              "      <th>user</th>\n",
              "      <th>repo_name</th>\n",
              "      <th>issue_number</th>\n",
              "    </tr>\n",
              "  </thead>\n",
              "  <tbody>\n",
              "    <tr>\n",
              "      <th>0</th>\n",
              "      <td>https://github.com/F5Networks/f5-openstack-lba...</td>\n",
              "      <td>F5Networks/f5-openstack-lbaasv2-driver</td>\n",
              "      <td>test_l7policies_and_rules.py:testl7basicupdate...</td>\n",
              "      <td>title: test_l7policies_and_rules.py:testl7basi...</td>\n",
              "      <td>[s3, p3, test-bug]</td>\n",
              "      <td>F5Networks</td>\n",
              "      <td>f5-openstack-lbaasv2-driver</td>\n",
              "      <td>835</td>\n",
              "    </tr>\n",
              "    <tr>\n",
              "      <th>1</th>\n",
              "      <td>https://github.com/aspnet/Mvc/issues/6339</td>\n",
              "      <td>aspnet/Mvc</td>\n",
              "      <td>testing all controllers dependency injection</td>\n",
              "      <td>i'm writing integration tests for my applicati...</td>\n",
              "      <td>[question]</td>\n",
              "      <td>aspnet</td>\n",
              "      <td>Mvc</td>\n",
              "      <td>6339</td>\n",
              "    </tr>\n",
              "    <tr>\n",
              "      <th>2</th>\n",
              "      <td>https://github.com/ionic-team/ionic-cli/issues...</td>\n",
              "      <td>ionic-team/ionic-cli</td>\n",
              "      <td>testing ionic4 - serve shows two displays</td>\n",
              "      <td>description:   ionic serve shows two displa...</td>\n",
              "      <td>[bug]</td>\n",
              "      <td>ionic-team</td>\n",
              "      <td>ionic-cli</td>\n",
              "      <td>3044</td>\n",
              "    </tr>\n",
              "    <tr>\n",
              "      <th>3</th>\n",
              "      <td>https://github.com/thefarwind/chip-8/issues/21</td>\n",
              "      <td>thefarwind/chip-8</td>\n",
              "      <td>tests are all broken</td>\n",
              "      <td>when switching chip8 such that the audio, disp...</td>\n",
              "      <td>[bug, tests]</td>\n",
              "      <td>thefarwind</td>\n",
              "      <td>chip-8</td>\n",
              "      <td>21</td>\n",
              "    </tr>\n",
              "    <tr>\n",
              "      <th>4</th>\n",
              "      <td>https://github.com/n-sokolov/CoffeeShop/issues/1</td>\n",
              "      <td>n-sokolov/CoffeeShop</td>\n",
              "      <td>tests for paging</td>\n",
              "      <td>_  context  _: paging mechanism must be tested...</td>\n",
              "      <td>[enhancement]</td>\n",
              "      <td>n-sokolov</td>\n",
              "      <td>CoffeeShop</td>\n",
              "      <td>1</td>\n",
              "    </tr>\n",
              "  </tbody>\n",
              "</table>\n",
              "</div>"
            ],
            "text/plain": [
              "                                                 url  ... issue_number\n",
              "0  https://github.com/F5Networks/f5-openstack-lba...  ...          835\n",
              "1          https://github.com/aspnet/Mvc/issues/6339  ...         6339\n",
              "2  https://github.com/ionic-team/ionic-cli/issues...  ...         3044\n",
              "3     https://github.com/thefarwind/chip-8/issues/21  ...           21\n",
              "4   https://github.com/n-sokolov/CoffeeShop/issues/1  ...            1\n",
              "\n",
              "[5 rows x 8 columns]"
            ]
          },
          "metadata": {
            "tags": []
          },
          "execution_count": 16
        }
      ]
    },
    {
      "cell_type": "code",
      "metadata": {
        "id": "4-7dv4OMOwWG",
        "colab_type": "code",
        "colab": {
          "base_uri": "https://localhost:8080/",
          "height": 221
        },
        "outputId": "4e10a69a-cca4-40e9-a06e-f7fcc7acfc9c"
      },
      "source": [
        "unique_labels = pp.get_unique_values(df, 'labels').keys().values\n",
        "\n",
        "pd.Series(unique_labels)"
      ],
      "execution_count": 17,
      "outputs": [
        {
          "output_type": "execute_result",
          "data": {
            "text/plain": [
              "0                               bug\n",
              "1                       enhancement\n",
              "2                          question\n",
              "3                          kind/bug\n",
              "4                             fixed\n",
              "                  ...              \n",
              "80                             done\n",
              "81                       discussion\n",
              "82                      kind/bug/p0\n",
              "83                      sig/network\n",
              "84    role-based-access-control/svc\n",
              "Length: 85, dtype: object"
            ]
          },
          "metadata": {
            "tags": []
          },
          "execution_count": 17
        }
      ]
    },
    {
      "cell_type": "code",
      "metadata": {
        "id": "pTnjPlvwO1v5",
        "colab_type": "code",
        "colab": {}
      },
      "source": [
        "paraphrase_list = pp.make_combinations(LABELS, unique_labels)\n",
        "_, paraphrase_likelihood = pp.check_paraphrase(paraphrase_list)"
      ],
      "execution_count": null,
      "outputs": []
    },
    {
      "cell_type": "code",
      "metadata": {
        "id": "lEzxSvdaO5Hr",
        "colab_type": "code",
        "colab": {
          "base_uri": "https://localhost:8080/",
          "height": 421
        },
        "outputId": "d6e8fc51-adbf-43e9-b384-7e61cab85225"
      },
      "source": [
        "label_mapping = {}\n",
        "for i, pair in enumerate(paraphrase_list):\n",
        "    if paraphrase_likelihood[i] > .5:\n",
        "        target_l, real_l = pair[0], pair[1]\n",
        "        try:\n",
        "            label_mapping[real_l].append((target_l, paraphrase_likelihood[i]))\n",
        "        except:\n",
        "            label_mapping[real_l] = []\n",
        "            label_mapping[real_l].append((target_l, paraphrase_likelihood[i]))\n",
        "\n",
        "pd.DataFrame(label_mapping).T"
      ],
      "execution_count": 19,
      "outputs": [
        {
          "output_type": "execute_result",
          "data": {
            "text/html": [
              "<div>\n",
              "<style scoped>\n",
              "    .dataframe tbody tr th:only-of-type {\n",
              "        vertical-align: middle;\n",
              "    }\n",
              "\n",
              "    .dataframe tbody tr th {\n",
              "        vertical-align: top;\n",
              "    }\n",
              "\n",
              "    .dataframe thead th {\n",
              "        text-align: right;\n",
              "    }\n",
              "</style>\n",
              "<table border=\"1\" class=\"dataframe\">\n",
              "  <thead>\n",
              "    <tr style=\"text-align: right;\">\n",
              "      <th></th>\n",
              "      <th>0</th>\n",
              "    </tr>\n",
              "  </thead>\n",
              "  <tbody>\n",
              "    <tr>\n",
              "      <th>bug</th>\n",
              "      <td>(bug, 0.9162983)</td>\n",
              "    </tr>\n",
              "    <tr>\n",
              "      <th>kind/bug</th>\n",
              "      <td>(bug, 0.84865934)</td>\n",
              "    </tr>\n",
              "    <tr>\n",
              "      <th>extension-bug</th>\n",
              "      <td>(bug, 0.62284034)</td>\n",
              "    </tr>\n",
              "    <tr>\n",
              "      <th>type:visual bug</th>\n",
              "      <td>(bug, 0.7715802)</td>\n",
              "    </tr>\n",
              "    <tr>\n",
              "      <th>minor bug</th>\n",
              "      <td>(bug, 0.5306739)</td>\n",
              "    </tr>\n",
              "    <tr>\n",
              "      <th>bug report</th>\n",
              "      <td>(bug, 0.6632633)</td>\n",
              "    </tr>\n",
              "    <tr>\n",
              "      <th>type: bug</th>\n",
              "      <td>(bug, 0.82417744)</td>\n",
              "    </tr>\n",
              "    <tr>\n",
              "      <th>type-bug</th>\n",
              "      <td>(bug, 0.799179)</td>\n",
              "    </tr>\n",
              "    <tr>\n",
              "      <th>enhancement</th>\n",
              "      <td>(enhancement, 0.9370464)</td>\n",
              "    </tr>\n",
              "    <tr>\n",
              "      <th>kind/enhancement</th>\n",
              "      <td>(enhancement, 0.90538484)</td>\n",
              "    </tr>\n",
              "    <tr>\n",
              "      <th>doc-enhancement</th>\n",
              "      <td>(enhancement, 0.8313373)</td>\n",
              "    </tr>\n",
              "    <tr>\n",
              "      <th>question</th>\n",
              "      <td>(question, 0.9274783)</td>\n",
              "    </tr>\n",
              "  </tbody>\n",
              "</table>\n",
              "</div>"
            ],
            "text/plain": [
              "                                          0\n",
              "bug                        (bug, 0.9162983)\n",
              "kind/bug                  (bug, 0.84865934)\n",
              "extension-bug             (bug, 0.62284034)\n",
              "type:visual bug            (bug, 0.7715802)\n",
              "minor bug                  (bug, 0.5306739)\n",
              "bug report                 (bug, 0.6632633)\n",
              "type: bug                 (bug, 0.82417744)\n",
              "type-bug                    (bug, 0.799179)\n",
              "enhancement        (enhancement, 0.9370464)\n",
              "kind/enhancement  (enhancement, 0.90538484)\n",
              "doc-enhancement    (enhancement, 0.8313373)\n",
              "question              (question, 0.9274783)"
            ]
          },
          "metadata": {
            "tags": []
          },
          "execution_count": 19
        }
      ]
    },
    {
      "cell_type": "code",
      "metadata": {
        "id": "up8kSD2cWOyp",
        "colab_type": "code",
        "colab": {
          "base_uri": "https://localhost:8080/",
          "height": 221
        },
        "outputId": "603bb49f-058d-42ee-f812-f263d382f439"
      },
      "source": [
        "df['labels']"
      ],
      "execution_count": 21,
      "outputs": [
        {
          "output_type": "execute_result",
          "data": {
            "text/plain": [
              "0                 [s3, p3, test-bug]\n",
              "1                         [question]\n",
              "2                              [bug]\n",
              "3                       [bug, tests]\n",
              "4                      [enhancement]\n",
              "                   ...              \n",
              "95    [extension-bug, status: stale]\n",
              "96                       [bug, done]\n",
              "97                     [enhancement]\n",
              "98              [bug, pdf previewer]\n",
              "99                             [bug]\n",
              "Name: labels, Length: 100, dtype: object"
            ]
          },
          "metadata": {
            "tags": []
          },
          "execution_count": 21
        }
      ]
    },
    {
      "cell_type": "code",
      "metadata": {
        "id": "fKDYLFjWO-Zm",
        "colab_type": "code",
        "colab": {
          "base_uri": "https://localhost:8080/",
          "height": 221
        },
        "outputId": "804479b3-d2a8-4c99-dbb1-5543560b1fe2"
      },
      "source": [
        "label_mapping = pp.disambiguate_labels(label_mapping)\n",
        "df['labels'] = pp.map_labels(df['labels'], label_mapping)\n",
        "\n",
        "df['labels']"
      ],
      "execution_count": 22,
      "outputs": [
        {
          "output_type": "execute_result",
          "data": {
            "text/plain": [
              "0       [undefined]\n",
              "1        [question]\n",
              "2             [bug]\n",
              "3             [bug]\n",
              "4     [enhancement]\n",
              "          ...      \n",
              "95            [bug]\n",
              "96            [bug]\n",
              "97    [enhancement]\n",
              "98            [bug]\n",
              "99            [bug]\n",
              "Name: labels, Length: 100, dtype: object"
            ]
          },
          "metadata": {
            "tags": []
          },
          "execution_count": 22
        }
      ]
    },
    {
      "cell_type": "code",
      "metadata": {
        "id": "Rc92rOIHPEuP",
        "colab_type": "code",
        "colab": {
          "base_uri": "https://localhost:8080/",
          "height": 411
        },
        "outputId": "f947a3d2-0ecb-4786-d84a-71960e440d2f"
      },
      "source": [
        "if 'undefined' not in LABELS:\n",
        "    LABELS.append('undefined')\n",
        "\n",
        "labels_vectorized = pp.vectorize(df['labels'], LABELS, prefix='label')\n",
        "df = pp.transform(df, to_add=[labels_vectorized])\n",
        "\n",
        "df.head()"
      ],
      "execution_count": 23,
      "outputs": [
        {
          "output_type": "stream",
          "text": [
            "Vectorizing Features...\n",
            "\n",
            "1 / 100\r2 / 100\r3 / 100\r4 / 100\r5 / 100\r6 / 100\r7 / 100\r8 / 100\r9 / 100\r10 / 100\r11 / 100\r12 / 100\r13 / 100\r14 / 100\r15 / 100\r16 / 100\r17 / 100\r18 / 100\r19 / 100\r20 / 100\r21 / 100\r22 / 100\r23 / 100\r24 / 100\r25 / 100\r26 / 100\r27 / 100\r28 / 100\r29 / 100\r30 / 100\r31 / 100\r32 / 100\r33 / 100\r34 / 100\r35 / 100\r36 / 100\r37 / 100\r38 / 100\r39 / 100\r40 / 100\r41 / 100\r42 / 100\r43 / 100\r44 / 100\r45 / 100\r46 / 100\r47 / 100\r48 / 100\r49 / 100\r50 / 100\r51 / 100\r52 / 100\r53 / 100\r54 / 100\r55 / 100\r56 / 100\r57 / 100\r58 / 100\r59 / 100\r60 / 100\r61 / 100\r62 / 100\r63 / 100\r64 / 100\r65 / 100\r66 / 100\r67 / 100\r68 / 100\r69 / 100\r70 / 100\r71 / 100\r72 / 100\r73 / 100\r74 / 100\r75 / 100\r76 / 100\r77 / 100\r78 / 100\r79 / 100\r80 / 100\r81 / 100\r82 / 100\r83 / 100\r84 / 100\r85 / 100\r86 / 100\r87 / 100\r88 / 100\r89 / 100\r90 / 100\r91 / 100\r92 / 100\r93 / 100\r94 / 100\r95 / 100\r96 / 100\r97 / 100\r98 / 100\r99 / 100\r100 / 100\rTransforming DataFrame...\n",
            "\n"
          ],
          "name": "stdout"
        },
        {
          "output_type": "execute_result",
          "data": {
            "text/html": [
              "<div>\n",
              "<style scoped>\n",
              "    .dataframe tbody tr th:only-of-type {\n",
              "        vertical-align: middle;\n",
              "    }\n",
              "\n",
              "    .dataframe tbody tr th {\n",
              "        vertical-align: top;\n",
              "    }\n",
              "\n",
              "    .dataframe thead th {\n",
              "        text-align: right;\n",
              "    }\n",
              "</style>\n",
              "<table border=\"1\" class=\"dataframe\">\n",
              "  <thead>\n",
              "    <tr style=\"text-align: right;\">\n",
              "      <th></th>\n",
              "      <th>url</th>\n",
              "      <th>repo</th>\n",
              "      <th>title</th>\n",
              "      <th>body</th>\n",
              "      <th>labels</th>\n",
              "      <th>user</th>\n",
              "      <th>repo_name</th>\n",
              "      <th>issue_number</th>\n",
              "      <th>label_bug</th>\n",
              "      <th>label_enhancement</th>\n",
              "      <th>label_question</th>\n",
              "      <th>label_undefined</th>\n",
              "    </tr>\n",
              "  </thead>\n",
              "  <tbody>\n",
              "    <tr>\n",
              "      <th>0</th>\n",
              "      <td>https://github.com/F5Networks/f5-openstack-lba...</td>\n",
              "      <td>F5Networks/f5-openstack-lbaasv2-driver</td>\n",
              "      <td>test_l7policies_and_rules.py:testl7basicupdate...</td>\n",
              "      <td>title: test_l7policies_and_rules.py:testl7basi...</td>\n",
              "      <td>[undefined]</td>\n",
              "      <td>F5Networks</td>\n",
              "      <td>f5-openstack-lbaasv2-driver</td>\n",
              "      <td>835</td>\n",
              "      <td>0.0</td>\n",
              "      <td>0.0</td>\n",
              "      <td>0.0</td>\n",
              "      <td>1.0</td>\n",
              "    </tr>\n",
              "    <tr>\n",
              "      <th>1</th>\n",
              "      <td>https://github.com/aspnet/Mvc/issues/6339</td>\n",
              "      <td>aspnet/Mvc</td>\n",
              "      <td>testing all controllers dependency injection</td>\n",
              "      <td>i'm writing integration tests for my applicati...</td>\n",
              "      <td>[question]</td>\n",
              "      <td>aspnet</td>\n",
              "      <td>Mvc</td>\n",
              "      <td>6339</td>\n",
              "      <td>0.0</td>\n",
              "      <td>0.0</td>\n",
              "      <td>1.0</td>\n",
              "      <td>0.0</td>\n",
              "    </tr>\n",
              "    <tr>\n",
              "      <th>2</th>\n",
              "      <td>https://github.com/ionic-team/ionic-cli/issues...</td>\n",
              "      <td>ionic-team/ionic-cli</td>\n",
              "      <td>testing ionic4 - serve shows two displays</td>\n",
              "      <td>description:   ionic serve shows two displa...</td>\n",
              "      <td>[bug]</td>\n",
              "      <td>ionic-team</td>\n",
              "      <td>ionic-cli</td>\n",
              "      <td>3044</td>\n",
              "      <td>1.0</td>\n",
              "      <td>0.0</td>\n",
              "      <td>0.0</td>\n",
              "      <td>0.0</td>\n",
              "    </tr>\n",
              "    <tr>\n",
              "      <th>3</th>\n",
              "      <td>https://github.com/thefarwind/chip-8/issues/21</td>\n",
              "      <td>thefarwind/chip-8</td>\n",
              "      <td>tests are all broken</td>\n",
              "      <td>when switching chip8 such that the audio, disp...</td>\n",
              "      <td>[bug]</td>\n",
              "      <td>thefarwind</td>\n",
              "      <td>chip-8</td>\n",
              "      <td>21</td>\n",
              "      <td>1.0</td>\n",
              "      <td>0.0</td>\n",
              "      <td>0.0</td>\n",
              "      <td>0.0</td>\n",
              "    </tr>\n",
              "    <tr>\n",
              "      <th>4</th>\n",
              "      <td>https://github.com/n-sokolov/CoffeeShop/issues/1</td>\n",
              "      <td>n-sokolov/CoffeeShop</td>\n",
              "      <td>tests for paging</td>\n",
              "      <td>_  context  _: paging mechanism must be tested...</td>\n",
              "      <td>[enhancement]</td>\n",
              "      <td>n-sokolov</td>\n",
              "      <td>CoffeeShop</td>\n",
              "      <td>1</td>\n",
              "      <td>0.0</td>\n",
              "      <td>1.0</td>\n",
              "      <td>0.0</td>\n",
              "      <td>0.0</td>\n",
              "    </tr>\n",
              "  </tbody>\n",
              "</table>\n",
              "</div>"
            ],
            "text/plain": [
              "                                                 url  ... label_undefined\n",
              "0  https://github.com/F5Networks/f5-openstack-lba...  ...             1.0\n",
              "1          https://github.com/aspnet/Mvc/issues/6339  ...             0.0\n",
              "2  https://github.com/ionic-team/ionic-cli/issues...  ...             0.0\n",
              "3     https://github.com/thefarwind/chip-8/issues/21  ...             0.0\n",
              "4   https://github.com/n-sokolov/CoffeeShop/issues/1  ...             0.0\n",
              "\n",
              "[5 rows x 12 columns]"
            ]
          },
          "metadata": {
            "tags": []
          },
          "execution_count": 23
        }
      ]
    }
  ]
}